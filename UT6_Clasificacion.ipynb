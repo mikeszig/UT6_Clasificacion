{
  "nbformat": 4,
  "nbformat_minor": 0,
  "metadata": {
    "colab": {
      "provenance": []
    },
    "kernelspec": {
      "name": "python3",
      "display_name": "Python 3"
    },
    "language_info": {
      "name": "python"
    }
  },
  "cells": [
    {
      "cell_type": "code",
      "execution_count": null,
      "metadata": {
        "id": "8BfZwnZeMD4k"
      },
      "outputs": [],
      "source": [
        "# Clasificación de fármacos\n",
        "\n",
        "# Dataset con datos de pacientes y el tipo de droga que se les debe aplicar según sus características.\n",
        "# Objetivo de la práctica, predecir que fármaco se le debe suministrar a un nuevo paciente.\n",
        "\n",
        "# Nota: En este dataset se habla de drogas pero se refiere a medicamentos.\n",
        "# Target:   Drug - Drug Type (Rango: DrugY, DrugX, DrugA, DrugB, DrugC)\n",
        "\n",
        "# Features: Age - Age of the Patient\n",
        "#           Sex - Gender of the patients\n",
        "#           BP - Blood Pressure Levels\n",
        "#           Cholesterol - Cholesterol Levels\n",
        "#           Na_to_K - Sodium to potassium Ration in Blood"
      ]
    },
    {
      "cell_type": "code",
      "source": [
        "import numpy as np\n",
        "import matplotlib.pyplot as plt\n",
        "import pandas as pd\n",
        "\n",
        "from sklearn import preprocessing\n",
        "from sklearn.model_selection import train_test_split\n",
        "from sklearn.linear_model import LogisticRegression\n",
        "from sklearn.neighbors import KNeighborsClassifier\n",
        "from sklearn.svm import SVC\n",
        "from sklearn.naive_bayes import GaussianNB\n",
        "from sklearn.tree import DecisionTreeClassifier\n",
        "from sklearn.ensemble import RandomForestClassifier\n",
        "from sklearn.metrics import accuracy_score, confusion_matrix, classification_report, roc_curve, auc\n",
        "from sklearn.model_selection import cross_val_score\n",
        "from sklearn.preprocessing import label_binarize\n",
        "\n",
        "import warnings\n",
        "warnings.simplefilter(\"ignore\", UserWarning)"
      ],
      "metadata": {
        "id": "SMST0cj-goom"
      },
      "execution_count": null,
      "outputs": []
    },
    {
      "cell_type": "code",
      "source": [
        "drugs = pd.read_csv(\"/content/drug200.csv\")\n",
        "drugs.head(5)"
      ],
      "metadata": {
        "colab": {
          "base_uri": "https://localhost:8080/",
          "height": 206
        },
        "id": "9YewRo9Bnogn",
        "outputId": "82a9c370-a076-4db0-d16e-b569aaea3ee1"
      },
      "execution_count": null,
      "outputs": [
        {
          "output_type": "execute_result",
          "data": {
            "text/plain": [
              "   Age Sex      BP Cholesterol  Na_to_K   Drug\n",
              "0   23   F    HIGH        HIGH   25.355  DrugY\n",
              "1   47   M     LOW        HIGH   13.093  drugC\n",
              "2   47   M     LOW        HIGH   10.114  drugC\n",
              "3   28   F  NORMAL        HIGH    7.798  drugX\n",
              "4   61   F     LOW        HIGH   18.043  DrugY"
            ],
            "text/html": [
              "\n",
              "  <div id=\"df-fd33ac8c-17c1-40d8-9bf7-b68ac2de826d\">\n",
              "    <div class=\"colab-df-container\">\n",
              "      <div>\n",
              "<style scoped>\n",
              "    .dataframe tbody tr th:only-of-type {\n",
              "        vertical-align: middle;\n",
              "    }\n",
              "\n",
              "    .dataframe tbody tr th {\n",
              "        vertical-align: top;\n",
              "    }\n",
              "\n",
              "    .dataframe thead th {\n",
              "        text-align: right;\n",
              "    }\n",
              "</style>\n",
              "<table border=\"1\" class=\"dataframe\">\n",
              "  <thead>\n",
              "    <tr style=\"text-align: right;\">\n",
              "      <th></th>\n",
              "      <th>Age</th>\n",
              "      <th>Sex</th>\n",
              "      <th>BP</th>\n",
              "      <th>Cholesterol</th>\n",
              "      <th>Na_to_K</th>\n",
              "      <th>Drug</th>\n",
              "    </tr>\n",
              "  </thead>\n",
              "  <tbody>\n",
              "    <tr>\n",
              "      <th>0</th>\n",
              "      <td>23</td>\n",
              "      <td>F</td>\n",
              "      <td>HIGH</td>\n",
              "      <td>HIGH</td>\n",
              "      <td>25.355</td>\n",
              "      <td>DrugY</td>\n",
              "    </tr>\n",
              "    <tr>\n",
              "      <th>1</th>\n",
              "      <td>47</td>\n",
              "      <td>M</td>\n",
              "      <td>LOW</td>\n",
              "      <td>HIGH</td>\n",
              "      <td>13.093</td>\n",
              "      <td>drugC</td>\n",
              "    </tr>\n",
              "    <tr>\n",
              "      <th>2</th>\n",
              "      <td>47</td>\n",
              "      <td>M</td>\n",
              "      <td>LOW</td>\n",
              "      <td>HIGH</td>\n",
              "      <td>10.114</td>\n",
              "      <td>drugC</td>\n",
              "    </tr>\n",
              "    <tr>\n",
              "      <th>3</th>\n",
              "      <td>28</td>\n",
              "      <td>F</td>\n",
              "      <td>NORMAL</td>\n",
              "      <td>HIGH</td>\n",
              "      <td>7.798</td>\n",
              "      <td>drugX</td>\n",
              "    </tr>\n",
              "    <tr>\n",
              "      <th>4</th>\n",
              "      <td>61</td>\n",
              "      <td>F</td>\n",
              "      <td>LOW</td>\n",
              "      <td>HIGH</td>\n",
              "      <td>18.043</td>\n",
              "      <td>DrugY</td>\n",
              "    </tr>\n",
              "  </tbody>\n",
              "</table>\n",
              "</div>\n",
              "      <button class=\"colab-df-convert\" onclick=\"convertToInteractive('df-fd33ac8c-17c1-40d8-9bf7-b68ac2de826d')\"\n",
              "              title=\"Convert this dataframe to an interactive table.\"\n",
              "              style=\"display:none;\">\n",
              "        \n",
              "  <svg xmlns=\"http://www.w3.org/2000/svg\" height=\"24px\"viewBox=\"0 0 24 24\"\n",
              "       width=\"24px\">\n",
              "    <path d=\"M0 0h24v24H0V0z\" fill=\"none\"/>\n",
              "    <path d=\"M18.56 5.44l.94 2.06.94-2.06 2.06-.94-2.06-.94-.94-2.06-.94 2.06-2.06.94zm-11 1L8.5 8.5l.94-2.06 2.06-.94-2.06-.94L8.5 2.5l-.94 2.06-2.06.94zm10 10l.94 2.06.94-2.06 2.06-.94-2.06-.94-.94-2.06-.94 2.06-2.06.94z\"/><path d=\"M17.41 7.96l-1.37-1.37c-.4-.4-.92-.59-1.43-.59-.52 0-1.04.2-1.43.59L10.3 9.45l-7.72 7.72c-.78.78-.78 2.05 0 2.83L4 21.41c.39.39.9.59 1.41.59.51 0 1.02-.2 1.41-.59l7.78-7.78 2.81-2.81c.8-.78.8-2.07 0-2.86zM5.41 20L4 18.59l7.72-7.72 1.47 1.35L5.41 20z\"/>\n",
              "  </svg>\n",
              "      </button>\n",
              "      \n",
              "  <style>\n",
              "    .colab-df-container {\n",
              "      display:flex;\n",
              "      flex-wrap:wrap;\n",
              "      gap: 12px;\n",
              "    }\n",
              "\n",
              "    .colab-df-convert {\n",
              "      background-color: #E8F0FE;\n",
              "      border: none;\n",
              "      border-radius: 50%;\n",
              "      cursor: pointer;\n",
              "      display: none;\n",
              "      fill: #1967D2;\n",
              "      height: 32px;\n",
              "      padding: 0 0 0 0;\n",
              "      width: 32px;\n",
              "    }\n",
              "\n",
              "    .colab-df-convert:hover {\n",
              "      background-color: #E2EBFA;\n",
              "      box-shadow: 0px 1px 2px rgba(60, 64, 67, 0.3), 0px 1px 3px 1px rgba(60, 64, 67, 0.15);\n",
              "      fill: #174EA6;\n",
              "    }\n",
              "\n",
              "    [theme=dark] .colab-df-convert {\n",
              "      background-color: #3B4455;\n",
              "      fill: #D2E3FC;\n",
              "    }\n",
              "\n",
              "    [theme=dark] .colab-df-convert:hover {\n",
              "      background-color: #434B5C;\n",
              "      box-shadow: 0px 1px 3px 1px rgba(0, 0, 0, 0.15);\n",
              "      filter: drop-shadow(0px 1px 2px rgba(0, 0, 0, 0.3));\n",
              "      fill: #FFFFFF;\n",
              "    }\n",
              "  </style>\n",
              "\n",
              "      <script>\n",
              "        const buttonEl =\n",
              "          document.querySelector('#df-fd33ac8c-17c1-40d8-9bf7-b68ac2de826d button.colab-df-convert');\n",
              "        buttonEl.style.display =\n",
              "          google.colab.kernel.accessAllowed ? 'block' : 'none';\n",
              "\n",
              "        async function convertToInteractive(key) {\n",
              "          const element = document.querySelector('#df-fd33ac8c-17c1-40d8-9bf7-b68ac2de826d');\n",
              "          const dataTable =\n",
              "            await google.colab.kernel.invokeFunction('convertToInteractive',\n",
              "                                                     [key], {});\n",
              "          if (!dataTable) return;\n",
              "\n",
              "          const docLinkHtml = 'Like what you see? Visit the ' +\n",
              "            '<a target=\"_blank\" href=https://colab.research.google.com/notebooks/data_table.ipynb>data table notebook</a>'\n",
              "            + ' to learn more about interactive tables.';\n",
              "          element.innerHTML = '';\n",
              "          dataTable['output_type'] = 'display_data';\n",
              "          await google.colab.output.renderOutput(dataTable, element);\n",
              "          const docLink = document.createElement('div');\n",
              "          docLink.innerHTML = docLinkHtml;\n",
              "          element.appendChild(docLink);\n",
              "        }\n",
              "      </script>\n",
              "    </div>\n",
              "  </div>\n",
              "  "
            ]
          },
          "metadata": {},
          "execution_count": 34
        }
      ]
    },
    {
      "cell_type": "code",
      "source": [
        "print(\"Nº total de Valores missing:\", drugs.isnull().sum().sum())\n",
        "for i in range(len(drugs.columns)):\n",
        "    missing_data = drugs[drugs.columns[i]].isna().sum()\n",
        "    if missing_data == 0:\n",
        "      continue\n",
        "    col_name = drugs.columns[i]\n",
        "    perc = missing_data / len(drugs) * 100\n",
        "    print('>%d\\t Colunma: %s,\\t Missing_Values: %d\\t [%.2f%%]' % (i, col_name, missing_data, perc))"
      ],
      "metadata": {
        "colab": {
          "base_uri": "https://localhost:8080/"
        },
        "id": "64ifiA2EwofP",
        "outputId": "18f0c1df-bf7a-4de4-9847-ed92afdc8ba4"
      },
      "execution_count": null,
      "outputs": [
        {
          "output_type": "stream",
          "name": "stdout",
          "text": [
            "Nº total de Valores missing: 0\n"
          ]
        }
      ]
    },
    {
      "cell_type": "code",
      "source": [
        "#label_encoder = preprocessing.LabelEncoder()\n",
        "#drugs['Drug'] = label_encoder.fit_transform(drugs['Drug'])\n",
        "\n",
        "# Setear las características y la variable objetivo\n",
        "y = drugs.Drug.values\n",
        "drugs_X = drugs.drop('Drug', axis = 1)\n",
        "\n",
        "# One-hot encoding\n",
        "drugs_encoded = pd.get_dummies(drugs_X)\n",
        "\n",
        "# Normalización\n",
        "scaler = preprocessing.MinMaxScaler()\n",
        "colmn_names = drugs_encoded.columns\n",
        "data = scaler.fit_transform(drugs_encoded)\n",
        "drugs_normalized = pd.DataFrame(data, columns=colmn_names)\n",
        "\n",
        "# Evitamos la trampa de dummies\n",
        "drugs_normalized = drugs_normalized.drop(['Sex_M', 'BP_NORMAL', 'Cholesterol_NORMAL'], axis = 1)\n",
        "X = drugs_normalized.values\n",
        "\n",
        "print(X)\n",
        "print(y)\n",
        "drugs_normalized.info()"
      ],
      "metadata": {
        "colab": {
          "base_uri": "https://localhost:8080/"
        },
        "id": "QVQPQ8zVaVqP",
        "outputId": "bd642f6a-370f-432e-b9ec-506b497b0490"
      },
      "execution_count": null,
      "outputs": [
        {
          "output_type": "stream",
          "name": "stdout",
          "text": [
            "[[0.13559322 0.59684783 1.         1.         0.         1.        ]\n",
            " [0.54237288 0.21339671 0.         0.         1.         1.        ]\n",
            " [0.54237288 0.12023891 0.         0.         1.         1.        ]\n",
            " ...\n",
            " [0.62711864 0.11335918 0.         0.         0.         1.        ]\n",
            " [0.13559322 0.24238539 0.         0.         0.         0.        ]\n",
            " [0.42372881 0.15885922 1.         0.         1.         0.        ]]\n",
            "['DrugY' 'drugC' 'drugC' 'drugX' 'DrugY' 'drugX' 'DrugY' 'drugC' 'DrugY'\n",
            " 'DrugY' 'drugC' 'DrugY' 'DrugY' 'DrugY' 'drugX' 'DrugY' 'drugX' 'drugA'\n",
            " 'drugC' 'DrugY' 'DrugY' 'DrugY' 'DrugY' 'DrugY' 'DrugY' 'DrugY' 'DrugY'\n",
            " 'drugX' 'DrugY' 'DrugY' 'drugX' 'drugB' 'drugX' 'DrugY' 'drugX' 'drugX'\n",
            " 'drugA' 'drugX' 'drugX' 'drugX' 'DrugY' 'drugB' 'DrugY' 'drugX' 'drugX'\n",
            " 'drugX' 'drugA' 'drugC' 'DrugY' 'DrugY' 'DrugY' 'drugX' 'DrugY' 'DrugY'\n",
            " 'drugB' 'drugC' 'drugB' 'DrugY' 'drugX' 'DrugY' 'DrugY' 'drugA' 'DrugY'\n",
            " 'drugX' 'drugB' 'DrugY' 'drugA' 'drugX' 'DrugY' 'DrugY' 'drugB' 'DrugY'\n",
            " 'drugX' 'DrugY' 'DrugY' 'DrugY' 'drugA' 'DrugY' 'drugA' 'drugX' 'drugB'\n",
            " 'drugX' 'drugC' 'drugA' 'drugC' 'drugB' 'drugX' 'DrugY' 'DrugY' 'DrugY'\n",
            " 'DrugY' 'DrugY' 'DrugY' 'DrugY' 'DrugY' 'drugX' 'DrugY' 'DrugY' 'DrugY'\n",
            " 'DrugY' 'drugA' 'drugA' 'drugC' 'drugX' 'DrugY' 'drugX' 'drugX' 'DrugY'\n",
            " 'drugB' 'DrugY' 'drugA' 'drugX' 'drugX' 'drugX' 'drugX' 'DrugY' 'drugX'\n",
            " 'drugX' 'drugA' 'DrugY' 'DrugY' 'DrugY' 'DrugY' 'DrugY' 'drugB' 'DrugY'\n",
            " 'DrugY' 'drugX' 'DrugY' 'drugX' 'DrugY' 'DrugY' 'drugX' 'DrugY' 'DrugY'\n",
            " 'drugX' 'drugB' 'drugA' 'drugB' 'drugX' 'drugA' 'DrugY' 'drugB' 'DrugY'\n",
            " 'drugA' 'drugX' 'drugX' 'drugA' 'drugX' 'drugC' 'drugA' 'drugB' 'drugX'\n",
            " 'drugX' 'DrugY' 'drugC' 'drugA' 'DrugY' 'drugC' 'drugX' 'drugX' 'drugB'\n",
            " 'drugX' 'DrugY' 'DrugY' 'DrugY' 'DrugY' 'drugX' 'DrugY' 'drugA' 'drugX'\n",
            " 'drugX' 'DrugY' 'DrugY' 'drugA' 'DrugY' 'drugA' 'DrugY' 'DrugY' 'DrugY'\n",
            " 'DrugY' 'drugX' 'drugX' 'DrugY' 'DrugY' 'DrugY' 'drugB' 'drugA' 'DrugY'\n",
            " 'DrugY' 'DrugY' 'drugA' 'DrugY' 'drugC' 'DrugY' 'drugC' 'drugC' 'drugX'\n",
            " 'drugX' 'drugX']\n",
            "<class 'pandas.core.frame.DataFrame'>\n",
            "RangeIndex: 200 entries, 0 to 199\n",
            "Data columns (total 6 columns):\n",
            " #   Column            Non-Null Count  Dtype  \n",
            "---  ------            --------------  -----  \n",
            " 0   Age               200 non-null    float64\n",
            " 1   Na_to_K           200 non-null    float64\n",
            " 2   Sex_F             200 non-null    float64\n",
            " 3   BP_HIGH           200 non-null    float64\n",
            " 4   BP_LOW            200 non-null    float64\n",
            " 5   Cholesterol_HIGH  200 non-null    float64\n",
            "dtypes: float64(6)\n",
            "memory usage: 9.5 KB\n"
          ]
        }
      ]
    },
    {
      "cell_type": "code",
      "source": [
        "drugs_label = drugs.Drug.value_counts().index\n",
        "drugs_data = drugs.Drug.value_counts().values\n",
        "\n",
        "fig = plt.figure(figsize =(10, 7))\n",
        "plt.pie(drugs_data, labels = drugs_label)\n",
        "\n",
        "plt.show()\n",
        "\n",
        "# Como se puede comprobar, casi un 50% de las drogas aplicadas corresponde a la Y."
      ],
      "metadata": {
        "colab": {
          "base_uri": "https://localhost:8080/",
          "height": 411
        },
        "id": "oiFVVqom3W8R",
        "outputId": "7db9be0e-c53f-406e-e73d-b607027d3552"
      },
      "execution_count": null,
      "outputs": [
        {
          "output_type": "display_data",
          "data": {
            "text/plain": [
              "<Figure size 720x504 with 1 Axes>"
            ],
            "image/png": "[encoded data removed]"
          },
          "metadata": {}
        }
      ]
    },
    {
      "cell_type": "code",
      "source": [
        "# gráficas de densidad de los valores mas repetidos en el caso de cada droga\n",
        "# que valores se repiten más para cada droga\n",
        "\n",
        "figure, axis = plt.subplots(nrows=5, ncols=5, figsize=(20, 15))\n",
        "features = ['Age', 'Sex', 'BP', 'Cholesterol', 'Na_to_K']\n",
        "classes = ['DrugY', 'drugX', 'drugC', 'drugB', 'drugA']\n",
        "n_features = 5\n",
        "n_classes = 5\n",
        "f = 0 # filas\n",
        "c = 0 # columnas\n",
        "\n",
        "def hist_Age():\n",
        "  return axis[f, c].hist(drugs.Age.where(drugs.Drug == classes[f]).value_counts().index)\n",
        "def pie_Sex():\n",
        "  return axis[f, c].pie(drugs.Sex.where(drugs.Drug == classes[f]).value_counts())\n",
        "def pie_BP():\n",
        "  return axis[f, c].pie(drugs.BP.where(drugs.Drug == classes[f]).value_counts())\n",
        "def pie_Cholesterol():\n",
        "  return axis[f, c].pie(drugs.Cholesterol.where(drugs.Drug == classes[f]).value_counts())\n",
        "def hist_NatoK():\n",
        "  return axis[f, c].hist(drugs.Na_to_K.where(drugs.Drug == classes[f]).value_counts().index)\n",
        "action ={0:hist_Age, 1:pie_Sex, 2:pie_BP, 3:pie_Cholesterol, 4:hist_NatoK}\n",
        "\n",
        "#action2 = {\n",
        "#0:axis[f, c].hist(drugs.Age.where(drugs.Drug == classes[f]).value_counts().index),\n",
        "#1:axis[f, c].pie(drugs.Sex.where(drugs.Drug == classes[f]).value_counts()), # azul son mujeres / naranja son hombres\n",
        "#2:axis[f, c].pie(drugs.BP.where(drugs.Drug == classes[f]).value_counts()), # azul es colesterol alto / naranja es colesterol bajo / verde es colesterol normal\n",
        "#3:axis[f, c].pie(drugs.Cholesterol.where(drugs.Drug == classes[f]).value_counts()), # azul es colesterol alto / naranja es colesterol normal\n",
        "#4:axis[f, c].hist(drugs.Na_to_K.where(drugs.Drug == classes[f]).value_counts().index) # densidad con matplotlib: pd.DataFrame(drugs.Na_to_K.where(drugs.Drug == 'DrugY').value_counts().index).plot(kind='density')\n",
        "#    }\n",
        "\n",
        "for e in range(n_features):\n",
        "  f = 0\n",
        "  for i in range(n_classes):\n",
        "\n",
        "    action[c]()\n",
        "    axis[f, c].set_title(\"{} : {}\".format(features[c], classes[f]))\n",
        "\n",
        "    f = f + 1\n",
        "  c = c + 1\n",
        "\n",
        "plt.show()"
      ],
      "metadata": {
        "id": "A6n3B9VKAl-j",
        "colab": {
          "base_uri": "https://localhost:8080/",
          "height": 879
        },
        "outputId": "82340c69-5e2b-442e-c65b-174f9640cc4d"
      },
      "execution_count": null,
      "outputs": [
        {
          "output_type": "display_data",
          "data": {
            "text/plain": [
              "<Figure size 1440x1080 with 25 Axes>"
            ],
            "image/png": "[encoded data removed]"
          },
          "metadata": {
            "needs_background": "light"
          }
        }
      ]
    },
    {
      "cell_type": "code",
      "source": [
        "# Se le suministra:\n",
        "#Fármaco Y: Personas de entre 20-65 años, 50/50 mujeres y hombres, presiones de sangre parejas, colesterol un 50/50 y una alta concentración de sodio/potasio entre 15-25, pudiendo alcanzar hasta 35 en algunos casos.\n",
        "#Fármaco X: Personas de entre 20-65 años, 50/50 mujeres y hombres, mayoritariamente con alta presión en sangre y de colesterol. Los datos de sodio/potasio se concentran entre 7-14.\n",
        "#Fármaco C: Personas de entre 20-65 años, mayoritariamente mujeres con una alta presión en sangre y el colesterol alto. Los datos de sodio/potasio se concentran entre 9-13.\n",
        "#Fármaco B: Mayores de entre 50-75 años, mayoritariamente mujeres con una alta presión en sangre, el colesterol no arroja datos relevantes y el sodio/potasio tampoco.\n",
        "#Fármaco A: Personas de entre 20-50 años, mayoritariamente mujeres con una alta presión en sangre, con una concentración de sodio/potasio entre 10-14. El colesterol no arroja datos relevantes."
      ],
      "metadata": {
        "id": "75XOODT1bIDt"
      },
      "execution_count": null,
      "outputs": []
    },
    {
      "cell_type": "code",
      "source": [
        "X_train, X_test, y_train, y_test = train_test_split(X, y, test_size = 0.33, random_state = 0)"
      ],
      "metadata": {
        "id": "VmKVGtjDFEwH"
      },
      "execution_count": 124,
      "outputs": []
    },
    {
      "cell_type": "markdown",
      "source": [
        "LogisticRegression"
      ],
      "metadata": {
        "id": "dDHogsgwIPJz"
      }
    },
    {
      "cell_type": "code",
      "source": [
        "# LogisticRegression\n",
        "logisregression = LogisticRegression(random_state = 0)  \n",
        "logisregression.fit(X_train, y_train)"
      ],
      "metadata": {
        "colab": {
          "base_uri": "https://localhost:8080/"
        },
        "id": "QxL4u5r1FU3H",
        "outputId": "5b01c1a1-76b5-4ea1-d2cb-cfb7c11a00f5"
      },
      "execution_count": 125,
      "outputs": [
        {
          "output_type": "execute_result",
          "data": {
            "text/plain": [
              "LogisticRegression(random_state=0)"
            ]
          },
          "metadata": {},
          "execution_count": 125
        }
      ]
    },
    {
      "cell_type": "code",
      "source": [
        "y_pred_logisregression  = logisregression.predict(X_test)\n",
        "print(y_pred_logisregression)\n",
        "print(y_test)\n",
        "\n",
        "cm_logisregression = confusion_matrix(y_test, y_pred_logisregression) \n",
        "print(cm_logisregression)"
      ],
      "metadata": {
        "colab": {
          "base_uri": "https://localhost:8080/"
        },
        "id": "EdMhBTa7HNhj",
        "outputId": "5fc414b9-3b7d-4e9c-bf00-14ab323c57dc"
      },
      "execution_count": 126,
      "outputs": [
        {
          "output_type": "stream",
          "name": "stdout",
          "text": [
            "['drugC' 'drugX' 'DrugY' 'DrugY' 'DrugY' 'drugX' 'drugX' 'drugX' 'DrugY'\n",
            " 'drugX' 'drugA' 'DrugY' 'DrugY' 'DrugY' 'drugB' 'drugC' 'DrugY' 'DrugY'\n",
            " 'drugX' 'DrugY' 'DrugY' 'drugX' 'drugX' 'drugX' 'DrugY' 'DrugY' 'DrugY'\n",
            " 'DrugY' 'DrugY' 'drugX' 'drugX' 'drugC' 'drugA' 'drugX' 'DrugY' 'DrugY'\n",
            " 'drugX' 'DrugY' 'DrugY' 'drugX' 'DrugY' 'drugA' 'DrugY' 'DrugY' 'DrugY'\n",
            " 'drugX' 'drugX' 'DrugY' 'drugA' 'drugB' 'DrugY' 'DrugY' 'DrugY' 'DrugY'\n",
            " 'drugC' 'DrugY' 'drugX' 'drugX' 'DrugY' 'drugB' 'DrugY' 'DrugY' 'drugX'\n",
            " 'DrugY' 'DrugY' 'DrugY']\n",
            "['drugC' 'drugX' 'DrugY' 'DrugY' 'DrugY' 'drugX' 'drugX' 'drugX' 'DrugY'\n",
            " 'drugX' 'drugA' 'DrugY' 'DrugY' 'DrugY' 'drugB' 'drugC' 'DrugY' 'DrugY'\n",
            " 'drugX' 'DrugY' 'DrugY' 'drugX' 'drugX' 'drugX' 'DrugY' 'DrugY' 'DrugY'\n",
            " 'DrugY' 'DrugY' 'drugX' 'drugX' 'drugC' 'drugA' 'drugX' 'DrugY' 'DrugY'\n",
            " 'drugX' 'DrugY' 'drugA' 'drugX' 'DrugY' 'drugA' 'DrugY' 'drugX' 'DrugY'\n",
            " 'drugX' 'DrugY' 'DrugY' 'drugA' 'DrugY' 'DrugY' 'drugB' 'DrugY' 'DrugY'\n",
            " 'drugC' 'DrugY' 'drugX' 'drugX' 'DrugY' 'drugB' 'DrugY' 'DrugY' 'drugX'\n",
            " 'DrugY' 'drugX' 'DrugY']\n",
            "[[32  0  1  0  1]\n",
            " [ 1  4  0  0  0]\n",
            " [ 1  0  2  0  0]\n",
            " [ 0  0  0  4  0]\n",
            " [ 2  0  0  0 18]]\n"
          ]
        }
      ]
    },
    {
      "cell_type": "markdown",
      "source": [
        "KNeighborsClassifier"
      ],
      "metadata": {
        "id": "rChpqlsyTweX"
      }
    },
    {
      "cell_type": "code",
      "source": [
        "# KNeighborsClassifier\n",
        "classifierK_NN = KNeighborsClassifier(n_neighbors = 5, metric = \"minkowski\", p = 2)\n",
        "classifierK_NN.fit(X_train, y_train)"
      ],
      "metadata": {
        "colab": {
          "base_uri": "https://localhost:8080/"
        },
        "id": "d2DMJhuPTGJr",
        "outputId": "9b7e70e6-5d24-450f-b70c-d93e5af0e333"
      },
      "execution_count": 127,
      "outputs": [
        {
          "output_type": "execute_result",
          "data": {
            "text/plain": [
              "KNeighborsClassifier()"
            ]
          },
          "metadata": {},
          "execution_count": 127
        }
      ]
    },
    {
      "cell_type": "code",
      "source": [
        "y_pred_K_NN  = classifierK_NN.predict(X_test) \n",
        "print(y_pred_K_NN)\n",
        "print(y_test)\n",
        "\n",
        "cm_K_NN = confusion_matrix(y_test, y_pred_K_NN) \n",
        "print(cm_K_NN)"
      ],
      "metadata": {
        "colab": {
          "base_uri": "https://localhost:8080/"
        },
        "id": "cXcqEnfuTXNT",
        "outputId": "b2465dcc-01a1-4d38-dcea-59e5159d1101"
      },
      "execution_count": 128,
      "outputs": [
        {
          "output_type": "stream",
          "name": "stdout",
          "text": [
            "['drugC' 'drugX' 'DrugY' 'DrugY' 'DrugY' 'DrugY' 'drugX' 'drugX' 'drugC'\n",
            " 'drugX' 'drugA' 'DrugY' 'DrugY' 'drugX' 'drugB' 'drugC' 'drugB' 'drugX'\n",
            " 'drugX' 'drugA' 'DrugY' 'drugX' 'DrugY' 'drugX' 'DrugY' 'drugX' 'drugX'\n",
            " 'DrugY' 'DrugY' 'DrugY' 'drugX' 'drugC' 'drugA' 'drugX' 'DrugY' 'drugB'\n",
            " 'drugX' 'DrugY' 'DrugY' 'DrugY' 'drugA' 'drugA' 'DrugY' 'DrugY' 'DrugY'\n",
            " 'drugX' 'drugX' 'drugX' 'DrugY' 'drugB' 'drugX' 'drugB' 'drugA' 'DrugY'\n",
            " 'drugC' 'DrugY' 'drugX' 'drugX' 'drugX' 'drugB' 'DrugY' 'DrugY' 'drugX'\n",
            " 'DrugY' 'DrugY' 'drugA']\n",
            "['drugC' 'drugX' 'DrugY' 'DrugY' 'DrugY' 'drugX' 'drugX' 'drugX' 'DrugY'\n",
            " 'drugX' 'drugA' 'DrugY' 'DrugY' 'DrugY' 'drugB' 'drugC' 'DrugY' 'DrugY'\n",
            " 'drugX' 'DrugY' 'DrugY' 'drugX' 'drugX' 'drugX' 'DrugY' 'DrugY' 'DrugY'\n",
            " 'DrugY' 'DrugY' 'drugX' 'drugX' 'drugC' 'drugA' 'drugX' 'DrugY' 'DrugY'\n",
            " 'drugX' 'DrugY' 'drugA' 'drugX' 'DrugY' 'drugA' 'DrugY' 'drugX' 'DrugY'\n",
            " 'drugX' 'DrugY' 'DrugY' 'drugA' 'DrugY' 'DrugY' 'drugB' 'DrugY' 'DrugY'\n",
            " 'drugC' 'DrugY' 'drugX' 'drugX' 'DrugY' 'drugB' 'DrugY' 'DrugY' 'drugX'\n",
            " 'DrugY' 'drugX' 'DrugY']\n",
            "[[18  4  3  1  8]\n",
            " [ 2  3  0  0  0]\n",
            " [ 0  0  3  0  0]\n",
            " [ 0  0  0  4  0]\n",
            " [ 6  0  0  0 14]]\n"
          ]
        }
      ]
    },
    {
      "cell_type": "markdown",
      "source": [
        "Support Vector Machine for Classification (SVC) # LINEAL"
      ],
      "metadata": {
        "id": "GwaZ8SXDT2Iq"
      }
    },
    {
      "cell_type": "code",
      "source": [
        "# SVC Lineal\n",
        "classifierSVCLinear = SVC(kernel = 'linear', probability=True, random_state = 0)\n",
        "classifierSVCLinear.fit(X_train, y_train)"
      ],
      "metadata": {
        "colab": {
          "base_uri": "https://localhost:8080/"
        },
        "id": "x5FKwXaeT7MV",
        "outputId": "5bef7647-de14-4d3d-f982-a581b78ab44c"
      },
      "execution_count": 129,
      "outputs": [
        {
          "output_type": "execute_result",
          "data": {
            "text/plain": [
              "SVC(kernel='linear', probability=True, random_state=0)"
            ]
          },
          "metadata": {},
          "execution_count": 129
        }
      ]
    },
    {
      "cell_type": "code",
      "source": [
        "y_pred_SVC_Linear  = classifierSVCLinear.predict(X_test) \n",
        "print(y_pred_SVC_Linear)\n",
        "print(y_test)\n",
        "\n",
        "cm_SVC_Linear = confusion_matrix(y_test, y_pred_SVC_Linear) \n",
        "print(cm_SVC_Linear)"
      ],
      "metadata": {
        "colab": {
          "base_uri": "https://localhost:8080/"
        },
        "id": "tKAIbUexT_Pj",
        "outputId": "17156393-7067-4159-98e1-c6c89dedda91"
      },
      "execution_count": 130,
      "outputs": [
        {
          "output_type": "stream",
          "name": "stdout",
          "text": [
            "['drugC' 'drugX' 'DrugY' 'DrugY' 'DrugY' 'drugX' 'drugX' 'drugX' 'DrugY'\n",
            " 'drugX' 'drugA' 'DrugY' 'DrugY' 'DrugY' 'drugB' 'drugC' 'DrugY' 'DrugY'\n",
            " 'drugX' 'DrugY' 'DrugY' 'drugX' 'drugX' 'drugX' 'DrugY' 'drugX' 'drugX'\n",
            " 'DrugY' 'DrugY' 'drugX' 'drugX' 'drugC' 'drugA' 'drugX' 'DrugY' 'drugB'\n",
            " 'drugX' 'DrugY' 'DrugY' 'drugX' 'DrugY' 'drugA' 'DrugY' 'drugX' 'DrugY'\n",
            " 'drugX' 'drugX' 'DrugY' 'DrugY' 'drugB' 'DrugY' 'drugB' 'DrugY' 'DrugY'\n",
            " 'drugC' 'DrugY' 'drugX' 'drugX' 'DrugY' 'drugB' 'DrugY' 'DrugY' 'drugX'\n",
            " 'DrugY' 'DrugY' 'DrugY']\n",
            "['drugC' 'drugX' 'DrugY' 'DrugY' 'DrugY' 'drugX' 'drugX' 'drugX' 'DrugY'\n",
            " 'drugX' 'drugA' 'DrugY' 'DrugY' 'DrugY' 'drugB' 'drugC' 'DrugY' 'DrugY'\n",
            " 'drugX' 'DrugY' 'DrugY' 'drugX' 'drugX' 'drugX' 'DrugY' 'DrugY' 'DrugY'\n",
            " 'DrugY' 'DrugY' 'drugX' 'drugX' 'drugC' 'drugA' 'drugX' 'DrugY' 'DrugY'\n",
            " 'drugX' 'DrugY' 'drugA' 'drugX' 'DrugY' 'drugA' 'DrugY' 'drugX' 'DrugY'\n",
            " 'drugX' 'DrugY' 'DrugY' 'drugA' 'DrugY' 'DrugY' 'drugB' 'DrugY' 'DrugY'\n",
            " 'drugC' 'DrugY' 'drugX' 'drugX' 'DrugY' 'drugB' 'DrugY' 'DrugY' 'drugX'\n",
            " 'DrugY' 'drugX' 'DrugY']\n",
            "[[29  0  2  0  3]\n",
            " [ 2  3  0  0  0]\n",
            " [ 0  0  3  0  0]\n",
            " [ 0  0  0  4  0]\n",
            " [ 1  0  0  0 19]]\n"
          ]
        }
      ]
    },
    {
      "cell_type": "markdown",
      "source": [
        "Support Vector Machine for Classification (SVC) # NO LINEAL"
      ],
      "metadata": {
        "id": "ZOT61u2FaQv2"
      }
    },
    {
      "cell_type": "code",
      "source": [
        "# SVC No Lineal\n",
        "classifierSVC = SVC(kernel = 'rbf', probability=True, random_state = 0)\n",
        "classifierSVC.fit(X_train, y_train)"
      ],
      "metadata": {
        "colab": {
          "base_uri": "https://localhost:8080/"
        },
        "id": "DMWETPO_aTcZ",
        "outputId": "d624cbc5-1dae-4e88-caf5-e608b0c1d4ab"
      },
      "execution_count": 131,
      "outputs": [
        {
          "output_type": "execute_result",
          "data": {
            "text/plain": [
              "SVC(probability=True, random_state=0)"
            ]
          },
          "metadata": {},
          "execution_count": 131
        }
      ]
    },
    {
      "cell_type": "code",
      "source": [
        "y_pred_SVC  = classifierSVC.predict(X_test) \n",
        "print(y_pred_SVC)\n",
        "print(y_test)\n",
        "\n",
        "cm_SVC = confusion_matrix(y_test, y_pred_SVC) \n",
        "print(cm_SVC)"
      ],
      "metadata": {
        "colab": {
          "base_uri": "https://localhost:8080/"
        },
        "id": "3sDCDh9Taum6",
        "outputId": "d127bc97-05e5-498f-a883-79e4d7657903"
      },
      "execution_count": 132,
      "outputs": [
        {
          "output_type": "stream",
          "name": "stdout",
          "text": [
            "['drugC' 'drugX' 'DrugY' 'DrugY' 'DrugY' 'drugX' 'drugX' 'drugX' 'DrugY'\n",
            " 'drugX' 'drugA' 'DrugY' 'DrugY' 'drugX' 'drugB' 'drugC' 'DrugY' 'drugX'\n",
            " 'drugX' 'drugA' 'DrugY' 'drugX' 'drugX' 'drugX' 'DrugY' 'drugX' 'drugX'\n",
            " 'DrugY' 'DrugY' 'drugX' 'drugX' 'drugC' 'drugA' 'drugX' 'DrugY' 'drugB'\n",
            " 'drugX' 'DrugY' 'DrugY' 'drugX' 'DrugY' 'drugA' 'DrugY' 'drugX' 'DrugY'\n",
            " 'drugX' 'drugX' 'drugX' 'DrugY' 'drugB' 'drugX' 'drugB' 'DrugY' 'DrugY'\n",
            " 'drugC' 'DrugY' 'drugX' 'drugX' 'drugX' 'drugB' 'DrugY' 'DrugY' 'drugX'\n",
            " 'DrugY' 'DrugY' 'DrugY']\n",
            "['drugC' 'drugX' 'DrugY' 'DrugY' 'DrugY' 'drugX' 'drugX' 'drugX' 'DrugY'\n",
            " 'drugX' 'drugA' 'DrugY' 'DrugY' 'DrugY' 'drugB' 'drugC' 'DrugY' 'DrugY'\n",
            " 'drugX' 'DrugY' 'DrugY' 'drugX' 'drugX' 'drugX' 'DrugY' 'DrugY' 'DrugY'\n",
            " 'DrugY' 'DrugY' 'drugX' 'drugX' 'drugC' 'drugA' 'drugX' 'DrugY' 'DrugY'\n",
            " 'drugX' 'DrugY' 'drugA' 'drugX' 'DrugY' 'drugA' 'DrugY' 'drugX' 'DrugY'\n",
            " 'drugX' 'DrugY' 'DrugY' 'drugA' 'DrugY' 'DrugY' 'drugB' 'DrugY' 'DrugY'\n",
            " 'drugC' 'DrugY' 'drugX' 'drugX' 'DrugY' 'drugB' 'DrugY' 'DrugY' 'drugX'\n",
            " 'DrugY' 'drugX' 'DrugY']\n",
            "[[23  1  2  0  8]\n",
            " [ 2  3  0  0  0]\n",
            " [ 0  0  3  0  0]\n",
            " [ 0  0  0  4  0]\n",
            " [ 1  0  0  0 19]]\n"
          ]
        }
      ]
    },
    {
      "cell_type": "markdown",
      "source": [
        "Naive Bayes (GaussianNB)"
      ],
      "metadata": {
        "id": "I5Q23CWSURdl"
      }
    },
    {
      "cell_type": "code",
      "source": [
        "# GaussianNB\n",
        "classifierNaiveBayes = GaussianNB()                              \n",
        "classifierNaiveBayes.fit(X_train, y_train)"
      ],
      "metadata": {
        "colab": {
          "base_uri": "https://localhost:8080/"
        },
        "id": "YktWHkL0UOlO",
        "outputId": "4cc51ef7-f41c-41fd-ee1c-b83187822ac6"
      },
      "execution_count": 133,
      "outputs": [
        {
          "output_type": "execute_result",
          "data": {
            "text/plain": [
              "GaussianNB()"
            ]
          },
          "metadata": {},
          "execution_count": 133
        }
      ]
    },
    {
      "cell_type": "code",
      "source": [
        "y_pred_NaiveBayes  = classifierNaiveBayes.predict(X_test) \n",
        "print(y_pred_NaiveBayes)\n",
        "print(y_test)\n",
        "\n",
        "cm_NaiveBayes = confusion_matrix(y_test, y_pred_NaiveBayes) \n",
        "print(cm_NaiveBayes)"
      ],
      "metadata": {
        "colab": {
          "base_uri": "https://localhost:8080/"
        },
        "id": "3Ztd9pg5Uahi",
        "outputId": "d7575b52-dab7-4bd6-e605-722c1ccebc49"
      },
      "execution_count": 134,
      "outputs": [
        {
          "output_type": "stream",
          "name": "stdout",
          "text": [
            "['drugC' 'drugX' 'drugC' 'DrugY' 'drugX' 'drugX' 'drugX' 'drugX' 'drugC'\n",
            " 'drugX' 'drugA' 'DrugY' 'drugA' 'drugX' 'drugB' 'drugC' 'DrugY' 'DrugY'\n",
            " 'drugX' 'drugA' 'drugA' 'drugX' 'drugX' 'drugX' 'DrugY' 'drugX' 'drugX'\n",
            " 'DrugY' 'DrugY' 'drugX' 'drugX' 'drugC' 'drugA' 'drugX' 'DrugY' 'drugB'\n",
            " 'drugX' 'drugC' 'drugA' 'drugX' 'drugA' 'drugA' 'DrugY' 'drugX' 'DrugY'\n",
            " 'drugX' 'drugX' 'DrugY' 'drugA' 'drugB' 'drugX' 'drugB' 'DrugY' 'DrugY'\n",
            " 'drugC' 'DrugY' 'drugX' 'drugX' 'drugX' 'drugB' 'DrugY' 'DrugY' 'drugX'\n",
            " 'DrugY' 'drugX' 'DrugY']\n",
            "['drugC' 'drugX' 'DrugY' 'DrugY' 'DrugY' 'drugX' 'drugX' 'drugX' 'DrugY'\n",
            " 'drugX' 'drugA' 'DrugY' 'DrugY' 'DrugY' 'drugB' 'drugC' 'DrugY' 'DrugY'\n",
            " 'drugX' 'DrugY' 'DrugY' 'drugX' 'drugX' 'drugX' 'DrugY' 'DrugY' 'DrugY'\n",
            " 'DrugY' 'DrugY' 'drugX' 'drugX' 'drugC' 'drugA' 'drugX' 'DrugY' 'DrugY'\n",
            " 'drugX' 'DrugY' 'drugA' 'drugX' 'DrugY' 'drugA' 'DrugY' 'drugX' 'DrugY'\n",
            " 'drugX' 'DrugY' 'DrugY' 'drugA' 'DrugY' 'DrugY' 'drugB' 'DrugY' 'DrugY'\n",
            " 'drugC' 'DrugY' 'drugX' 'drugX' 'DrugY' 'drugB' 'DrugY' 'DrugY' 'drugX'\n",
            " 'DrugY' 'drugX' 'DrugY']\n",
            "[[18  4  2  3  7]\n",
            " [ 0  5  0  0  0]\n",
            " [ 0  0  3  0  0]\n",
            " [ 0  0  0  4  0]\n",
            " [ 0  0  0  0 20]]\n"
          ]
        }
      ]
    },
    {
      "cell_type": "markdown",
      "source": [
        "DecisionTreeClassifier"
      ],
      "metadata": {
        "id": "Ks-CDWrkUzi6"
      }
    },
    {
      "cell_type": "code",
      "source": [
        "# DecisionTreeClassifier\n",
        "classifierDecisionTree = DecisionTreeClassifier(criterion = \"entropy\", random_state = 0)\n",
        "classifierDecisionTree.fit(X_train, y_train)"
      ],
      "metadata": {
        "colab": {
          "base_uri": "https://localhost:8080/"
        },
        "id": "d0Tj3GYTU7O3",
        "outputId": "3744e105-a9ad-42fc-8d3f-d964f9fc452c"
      },
      "execution_count": 135,
      "outputs": [
        {
          "output_type": "execute_result",
          "data": {
            "text/plain": [
              "DecisionTreeClassifier(criterion='entropy', random_state=0)"
            ]
          },
          "metadata": {},
          "execution_count": 135
        }
      ]
    },
    {
      "cell_type": "code",
      "source": [
        "y_pred_DecisionTree  = classifierDecisionTree.predict(X_test) \n",
        "print(y_pred_DecisionTree)\n",
        "print(y_test)\n",
        "\n",
        "cm_DecisionTree = confusion_matrix(y_test, y_pred_DecisionTree) \n",
        "print(cm_DecisionTree)"
      ],
      "metadata": {
        "colab": {
          "base_uri": "https://localhost:8080/"
        },
        "id": "lrksAExlVD4S",
        "outputId": "7eb4d6d2-7b63-4322-8302-a66835ea1f87"
      },
      "execution_count": 136,
      "outputs": [
        {
          "output_type": "stream",
          "name": "stdout",
          "text": [
            "['drugC' 'drugX' 'DrugY' 'DrugY' 'DrugY' 'drugX' 'drugX' 'drugX' 'DrugY'\n",
            " 'drugX' 'drugA' 'DrugY' 'DrugY' 'DrugY' 'drugB' 'drugC' 'DrugY' 'DrugY'\n",
            " 'drugX' 'DrugY' 'DrugY' 'drugX' 'drugX' 'drugX' 'DrugY' 'DrugY' 'DrugY'\n",
            " 'DrugY' 'DrugY' 'drugX' 'drugX' 'drugC' 'drugA' 'drugX' 'DrugY' 'DrugY'\n",
            " 'drugX' 'DrugY' 'drugA' 'drugX' 'DrugY' 'drugA' 'DrugY' 'drugX' 'DrugY'\n",
            " 'drugX' 'DrugY' 'DrugY' 'drugA' 'DrugY' 'DrugY' 'drugB' 'DrugY' 'DrugY'\n",
            " 'drugC' 'DrugY' 'drugX' 'drugX' 'DrugY' 'drugB' 'DrugY' 'DrugY' 'drugX'\n",
            " 'DrugY' 'DrugY' 'DrugY']\n",
            "['drugC' 'drugX' 'DrugY' 'DrugY' 'DrugY' 'drugX' 'drugX' 'drugX' 'DrugY'\n",
            " 'drugX' 'drugA' 'DrugY' 'DrugY' 'DrugY' 'drugB' 'drugC' 'DrugY' 'DrugY'\n",
            " 'drugX' 'DrugY' 'DrugY' 'drugX' 'drugX' 'drugX' 'DrugY' 'DrugY' 'DrugY'\n",
            " 'DrugY' 'DrugY' 'drugX' 'drugX' 'drugC' 'drugA' 'drugX' 'DrugY' 'DrugY'\n",
            " 'drugX' 'DrugY' 'drugA' 'drugX' 'DrugY' 'drugA' 'DrugY' 'drugX' 'DrugY'\n",
            " 'drugX' 'DrugY' 'DrugY' 'drugA' 'DrugY' 'DrugY' 'drugB' 'DrugY' 'DrugY'\n",
            " 'drugC' 'DrugY' 'drugX' 'drugX' 'DrugY' 'drugB' 'DrugY' 'DrugY' 'drugX'\n",
            " 'DrugY' 'drugX' 'DrugY']\n",
            "[[34  0  0  0  0]\n",
            " [ 0  5  0  0  0]\n",
            " [ 0  0  3  0  0]\n",
            " [ 0  0  0  4  0]\n",
            " [ 1  0  0  0 19]]\n"
          ]
        }
      ]
    },
    {
      "cell_type": "markdown",
      "source": [
        "RandomForestClassifier"
      ],
      "metadata": {
        "id": "uD9eYVRIVnMz"
      }
    },
    {
      "cell_type": "code",
      "source": [
        "# RandomForestClassifier\n",
        "classifierRandomForest = RandomForestClassifier(n_estimators = 10, criterion = \"entropy\", random_state = 0)   \n",
        "classifierRandomForest.fit(X_train, y_train) "
      ],
      "metadata": {
        "colab": {
          "base_uri": "https://localhost:8080/"
        },
        "id": "tRU0TQFSVZ33",
        "outputId": "6e6f4419-bc3c-41b6-c42d-48a71ad7d615"
      },
      "execution_count": 137,
      "outputs": [
        {
          "output_type": "execute_result",
          "data": {
            "text/plain": [
              "RandomForestClassifier(criterion='entropy', n_estimators=10, random_state=0)"
            ]
          },
          "metadata": {},
          "execution_count": 137
        }
      ]
    },
    {
      "cell_type": "code",
      "source": [
        "y_pred_RandomForest  = classifierRandomForest.predict(X_test) \n",
        "print(y_pred_RandomForest)\n",
        "print(y_test)\n",
        "\n",
        "cm_RandomForest = confusion_matrix(y_test, y_pred_RandomForest) \n",
        "print(cm_RandomForest)"
      ],
      "metadata": {
        "colab": {
          "base_uri": "https://localhost:8080/"
        },
        "id": "ZemU7IZZVsMz",
        "outputId": "af1450f5-704d-4ace-96cf-386505192f17"
      },
      "execution_count": 138,
      "outputs": [
        {
          "output_type": "stream",
          "name": "stdout",
          "text": [
            "['drugC' 'drugX' 'DrugY' 'DrugY' 'DrugY' 'drugX' 'drugX' 'drugX' 'DrugY'\n",
            " 'drugX' 'drugA' 'DrugY' 'DrugY' 'DrugY' 'drugB' 'drugC' 'DrugY' 'DrugY'\n",
            " 'drugX' 'DrugY' 'DrugY' 'drugX' 'drugX' 'drugX' 'DrugY' 'DrugY' 'DrugY'\n",
            " 'DrugY' 'DrugY' 'drugX' 'drugX' 'drugC' 'drugA' 'drugX' 'DrugY' 'DrugY'\n",
            " 'drugX' 'DrugY' 'drugA' 'drugX' 'DrugY' 'drugA' 'DrugY' 'drugX' 'DrugY'\n",
            " 'drugX' 'DrugY' 'DrugY' 'drugA' 'DrugY' 'DrugY' 'drugB' 'DrugY' 'DrugY'\n",
            " 'drugC' 'DrugY' 'drugX' 'drugX' 'DrugY' 'drugB' 'DrugY' 'DrugY' 'drugX'\n",
            " 'DrugY' 'DrugY' 'DrugY']\n",
            "['drugC' 'drugX' 'DrugY' 'DrugY' 'DrugY' 'drugX' 'drugX' 'drugX' 'DrugY'\n",
            " 'drugX' 'drugA' 'DrugY' 'DrugY' 'DrugY' 'drugB' 'drugC' 'DrugY' 'DrugY'\n",
            " 'drugX' 'DrugY' 'DrugY' 'drugX' 'drugX' 'drugX' 'DrugY' 'DrugY' 'DrugY'\n",
            " 'DrugY' 'DrugY' 'drugX' 'drugX' 'drugC' 'drugA' 'drugX' 'DrugY' 'DrugY'\n",
            " 'drugX' 'DrugY' 'drugA' 'drugX' 'DrugY' 'drugA' 'DrugY' 'drugX' 'DrugY'\n",
            " 'drugX' 'DrugY' 'DrugY' 'drugA' 'DrugY' 'DrugY' 'drugB' 'DrugY' 'DrugY'\n",
            " 'drugC' 'DrugY' 'drugX' 'drugX' 'DrugY' 'drugB' 'DrugY' 'DrugY' 'drugX'\n",
            " 'DrugY' 'drugX' 'DrugY']\n",
            "[[34  0  0  0  0]\n",
            " [ 0  5  0  0  0]\n",
            " [ 0  0  3  0  0]\n",
            " [ 0  0  0  4  0]\n",
            " [ 1  0  0  0 19]]\n"
          ]
        }
      ]
    },
    {
      "cell_type": "markdown",
      "source": [
        "EVALUACIÓN"
      ],
      "metadata": {
        "id": "GJLDqKU5ozME"
      }
    },
    {
      "cell_type": "code",
      "source": [
        "# CONFUSION MATRIX\n",
        "print(\"CONFUSION MATRIX\")\n",
        "print(\"CONF. MATRX. (Logistic Regression): \" )\n",
        "print( confusion_matrix(y_test, y_pred_logisregression) )\n",
        "print(\" \")\n",
        "print(\"CONF. MATRX.  (K_Nearest_Neighbors): \")\n",
        "print( confusion_matrix(y_test, y_pred_K_NN) )\n",
        "print(\" \")\n",
        "print(\"CONF. MATRX.  (Support Vector Machine SVC Linear Kernel): \")\n",
        "print( confusion_matrix(y_test, y_pred_SVC_Linear) )\n",
        "print(\" \")\n",
        "print(\"CONF. MATRX.  (Support Vector Machine SVC RBF Kernel): \")\n",
        "print( confusion_matrix(y_test, y_pred_SVC) )\n",
        "print(\" \")\n",
        "print(\"CONF. MATRX.  (Naive Bayes): \"  )\n",
        "print( confusion_matrix(y_test, y_pred_NaiveBayes) )\n",
        "print(\" \")\n",
        "print(\"CONF. MATRX.  (Classification Decision Tree): \" )\n",
        "print( confusion_matrix(y_test, y_pred_DecisionTree) )\n",
        "print(\" \")\n",
        "print(\"CONF. MATRX.  (Classification Random Forests): \" )\n",
        "print( confusion_matrix(y_test, y_pred_RandomForest) )\n",
        "print(\" \")\n",
        "print(\" \")\n",
        "\n",
        "# ACCURACY_SCORE\n",
        "print(\"ACCURACY\")\n",
        "print(\"   ACC (Logistic Regression): %.2f\" % accuracy_score(y_test, y_pred_logisregression) )\n",
        "print(\"   ACC (K_Nearest_Neighbors): %.2f\" % accuracy_score(y_test, y_pred_K_NN) )\n",
        "print(\"   ACC (Support Vector Machine SVC Linear Kernel): %.2f\" % accuracy_score(y_test, y_pred_SVC_Linear) )\n",
        "print(\"   ACC (Support Vector Machine SVC RBF Kernel): %.2f\" % accuracy_score(y_test, y_pred_SVC) )\n",
        "print(\"   ACC (Naive Bayes): %.2f\" % accuracy_score(y_test, y_pred_NaiveBayes) )\n",
        "print(\"   ACC (Classification Decision Tree): %.2f\" % accuracy_score(y_test, y_pred_DecisionTree) )\n",
        "print(\"   ACC (Classification Random Forests): %.2f\" % accuracy_score(y_test, y_pred_RandomForest) )\n",
        "print(\" \")\n",
        "\n",
        "print(\"Para este caso concreto, SVC con kernel lineal [Linear Kernel] ha dado mejores resultados que el no lineal [RBF Kernel].\")\n",
        "print(\"\")\n",
        "\n",
        "# CLASSIFICATION_REPORT\n",
        "print(\"CLASSIFICATION_REPORT\")\n",
        "print(\"CLSS_REPORT (Logistic Regression): \" )\n",
        "print( classification_report(y_test, y_pred_logisregression) )\n",
        "print(\" \")\n",
        "print(\"CLSS_REPORT (K_Nearest_Neighbors): \")\n",
        "print( classification_report(y_test, y_pred_K_NN) )\n",
        "print(\" \")\n",
        "print(\"CLSS_REPORT (Support Vector Machine SVC Linear Kernel): \")\n",
        "print( classification_report(y_test, y_pred_SVC_Linear) )\n",
        "print(\" \")\n",
        "print(\"CLSS_REPORT (Support Vector Machine SVC RBF Kernel): \")\n",
        "print( classification_report(y_test, y_pred_SVC) )\n",
        "print(\" \")\n",
        "print(\"CLSS_REPORT (Naive Bayes): \"  )\n",
        "print( classification_report(y_test, y_pred_NaiveBayes) )\n",
        "print(\" \")\n",
        "print(\"CLSS_REPORT (Classification Decision Tree): \" )\n",
        "print( classification_report(y_test, y_pred_DecisionTree) )\n",
        "print(\" \")\n",
        "print(\"CLSS_REPORT (Classification Random Forests): \" )\n",
        "print( classification_report(y_test, y_pred_RandomForest) )\n",
        "print(\" \")"
      ],
      "metadata": {
        "colab": {
          "base_uri": "https://localhost:8080/"
        },
        "id": "aeaHNr75oyok",
        "outputId": "a0f58c56-7ae6-4bf8-a3a9-23396138a1ad"
      },
      "execution_count": 139,
      "outputs": [
        {
          "output_type": "stream",
          "name": "stdout",
          "text": [
            "CONFUSION MATRIX\n",
            "CONF. MATRX. (Logistic Regression): \n",
            "[[32  0  1  0  1]\n",
            " [ 1  4  0  0  0]\n",
            " [ 1  0  2  0  0]\n",
            " [ 0  0  0  4  0]\n",
            " [ 2  0  0  0 18]]\n",
            " \n",
            "CONF. MATRX.  (K_Nearest_Neighbors): \n",
            "[[18  4  3  1  8]\n",
            " [ 2  3  0  0  0]\n",
            " [ 0  0  3  0  0]\n",
            " [ 0  0  0  4  0]\n",
            " [ 6  0  0  0 14]]\n",
            " \n",
            "CONF. MATRX.  (Support Vector Machine SVC Linear Kernel): \n",
            "[[29  0  2  0  3]\n",
            " [ 2  3  0  0  0]\n",
            " [ 0  0  3  0  0]\n",
            " [ 0  0  0  4  0]\n",
            " [ 1  0  0  0 19]]\n",
            " \n",
            "CONF. MATRX.  (Support Vector Machine SVC RBF Kernel): \n",
            "[[23  1  2  0  8]\n",
            " [ 2  3  0  0  0]\n",
            " [ 0  0  3  0  0]\n",
            " [ 0  0  0  4  0]\n",
            " [ 1  0  0  0 19]]\n",
            " \n",
            "CONF. MATRX.  (Naive Bayes): \n",
            "[[18  4  2  3  7]\n",
            " [ 0  5  0  0  0]\n",
            " [ 0  0  3  0  0]\n",
            " [ 0  0  0  4  0]\n",
            " [ 0  0  0  0 20]]\n",
            " \n",
            "CONF. MATRX.  (Classification Decision Tree): \n",
            "[[34  0  0  0  0]\n",
            " [ 0  5  0  0  0]\n",
            " [ 0  0  3  0  0]\n",
            " [ 0  0  0  4  0]\n",
            " [ 1  0  0  0 19]]\n",
            " \n",
            "CONF. MATRX.  (Classification Random Forests): \n",
            "[[34  0  0  0  0]\n",
            " [ 0  5  0  0  0]\n",
            " [ 0  0  3  0  0]\n",
            " [ 0  0  0  4  0]\n",
            " [ 1  0  0  0 19]]\n",
            " \n",
            " \n",
            "ACCURACY\n",
            "   ACC (Logistic Regression): 0.91\n",
            "   ACC (K_Nearest_Neighbors): 0.64\n",
            "   ACC (Support Vector Machine SVC Linear Kernel): 0.88\n",
            "   ACC (Support Vector Machine SVC RBF Kernel): 0.79\n",
            "   ACC (Naive Bayes): 0.76\n",
            "   ACC (Classification Decision Tree): 0.98\n",
            "   ACC (Classification Random Forests): 0.98\n",
            " \n",
            "Para este caso concreto, SVC con kernel lineal [Linear Kernel] ha dado mejores resultados que el no lineal [RBF Kernel].\n",
            "\n",
            "CLASSIFICATION_REPORT\n",
            "CLSS_REPORT (Logistic Regression): \n",
            "              precision    recall  f1-score   support\n",
            "\n",
            "       DrugY       0.89      0.94      0.91        34\n",
            "       drugA       1.00      0.80      0.89         5\n",
            "       drugB       0.67      0.67      0.67         3\n",
            "       drugC       1.00      1.00      1.00         4\n",
            "       drugX       0.95      0.90      0.92        20\n",
            "\n",
            "    accuracy                           0.91        66\n",
            "   macro avg       0.90      0.86      0.88        66\n",
            "weighted avg       0.91      0.91      0.91        66\n",
            "\n",
            " \n",
            "CLSS_REPORT (K_Nearest_Neighbors): \n",
            "              precision    recall  f1-score   support\n",
            "\n",
            "       DrugY       0.69      0.53      0.60        34\n",
            "       drugA       0.43      0.60      0.50         5\n",
            "       drugB       0.50      1.00      0.67         3\n",
            "       drugC       0.80      1.00      0.89         4\n",
            "       drugX       0.64      0.70      0.67        20\n",
            "\n",
            "    accuracy                           0.64        66\n",
            "   macro avg       0.61      0.77      0.66        66\n",
            "weighted avg       0.65      0.64      0.63        66\n",
            "\n",
            " \n",
            "CLSS_REPORT (Support Vector Machine SVC Linear Kernel): \n",
            "              precision    recall  f1-score   support\n",
            "\n",
            "       DrugY       0.91      0.85      0.88        34\n",
            "       drugA       1.00      0.60      0.75         5\n",
            "       drugB       0.60      1.00      0.75         3\n",
            "       drugC       1.00      1.00      1.00         4\n",
            "       drugX       0.86      0.95      0.90        20\n",
            "\n",
            "    accuracy                           0.88        66\n",
            "   macro avg       0.87      0.88      0.86        66\n",
            "weighted avg       0.89      0.88      0.88        66\n",
            "\n",
            " \n",
            "CLSS_REPORT (Support Vector Machine SVC RBF Kernel): \n",
            "              precision    recall  f1-score   support\n",
            "\n",
            "       DrugY       0.88      0.68      0.77        34\n",
            "       drugA       0.75      0.60      0.67         5\n",
            "       drugB       0.60      1.00      0.75         3\n",
            "       drugC       1.00      1.00      1.00         4\n",
            "       drugX       0.70      0.95      0.81        20\n",
            "\n",
            "    accuracy                           0.79        66\n",
            "   macro avg       0.79      0.85      0.80        66\n",
            "weighted avg       0.81      0.79      0.79        66\n",
            "\n",
            " \n",
            "CLSS_REPORT (Naive Bayes): \n",
            "              precision    recall  f1-score   support\n",
            "\n",
            "       DrugY       1.00      0.53      0.69        34\n",
            "       drugA       0.56      1.00      0.71         5\n",
            "       drugB       0.60      1.00      0.75         3\n",
            "       drugC       0.57      1.00      0.73         4\n",
            "       drugX       0.74      1.00      0.85        20\n",
            "\n",
            "    accuracy                           0.76        66\n",
            "   macro avg       0.69      0.91      0.75        66\n",
            "weighted avg       0.84      0.76      0.75        66\n",
            "\n",
            " \n",
            "CLSS_REPORT (Classification Decision Tree): \n",
            "              precision    recall  f1-score   support\n",
            "\n",
            "       DrugY       0.97      1.00      0.99        34\n",
            "       drugA       1.00      1.00      1.00         5\n",
            "       drugB       1.00      1.00      1.00         3\n",
            "       drugC       1.00      1.00      1.00         4\n",
            "       drugX       1.00      0.95      0.97        20\n",
            "\n",
            "    accuracy                           0.98        66\n",
            "   macro avg       0.99      0.99      0.99        66\n",
            "weighted avg       0.99      0.98      0.98        66\n",
            "\n",
            " \n",
            "CLSS_REPORT (Classification Random Forests): \n",
            "              precision    recall  f1-score   support\n",
            "\n",
            "       DrugY       0.97      1.00      0.99        34\n",
            "       drugA       1.00      1.00      1.00         5\n",
            "       drugB       1.00      1.00      1.00         3\n",
            "       drugC       1.00      1.00      1.00         4\n",
            "       drugX       1.00      0.95      0.97        20\n",
            "\n",
            "    accuracy                           0.98        66\n",
            "   macro avg       0.99      0.99      0.99        66\n",
            "weighted avg       0.99      0.98      0.98        66\n",
            "\n",
            " \n"
          ]
        }
      ]
    },
    {
      "cell_type": "code",
      "source": [
        "label_encoder = preprocessing.LabelEncoder()\n",
        "\n",
        "test_Y = label_encoder.fit_transform(y_test)\n",
        "print(y_test)\n",
        "print(test_Y)\n",
        "print(\">DrugY: 0\" +\n",
        "      \"\\n>drugA: 1\" +\n",
        "      \"\\n>drugB: 2\" +\n",
        "      \"\\n>drugC: 3\" +\n",
        "      \"\\n>drugX: 4\")\n",
        "print(\"#IMPORTANTE: Las filas están ordenadas del 0 al 4, siendo 0 (DrugY) la primera fila y 4 (drugX) la última.\")\n",
        "test_Y = label_binarize(test_Y, classes=[0,1,2,3,4])\n",
        "\n",
        "n_classes = 5\n",
        "n_algort = 7\n",
        "\n",
        "algort = {'y_prob_logisregression': logisregression.predict_proba(X_test),\n",
        "          'y_prob_KNN': classifierK_NN.predict_proba(X_test),\n",
        "          'y_prob_SVCLinear': classifierSVCLinear.predict_proba(X_test),\n",
        "          'y_prob_SVC': classifierSVC.predict_proba(X_test),\n",
        "          'y_prob_NaiveBayes': classifierNaiveBayes.predict_proba(X_test),\n",
        "          'y_prob_classifierTree': classifierDecisionTree.predict_proba(X_test),\n",
        "          'y_prob_classifierRndForest': classifierRandomForest.predict_proba(X_test)}\n",
        "#algort = []\n",
        "#algort.append(logisregression.predict_proba(X_test))                            # y_prob_logisregression\n",
        "#algort.append(classifierK_NN.predict_proba(X_test))                             # y_prob_KNN\n",
        "#algort.append(classifierSVCLinear.predict_proba(X_test))                        # y_prob_SVCLinear\n",
        "#algort.append(classifierSVC.predict_proba(X_test))                              # y_prob_SVC\n",
        "#algort.append(classifierNaiveBayes.predict_proba(X_test))                       # y_prob_NaiveBayes\n",
        "#algort.append(classifierDecisionTree.predict_proba(X_test))                     # y_prob_classifierTree\n",
        "#algort.append(classifierRandomForest.predict_proba(X_test))                     # y_prob_classifierRndForest\n",
        "print(\"y_prob_logisregression \\ty_prob_KNN \\t\\ty_prob_SVCLinear \\ty_prob_SVC \\ty_prob_NaiveBayes \\ty_prob_classifierTree \\ty_prob_classifierRndForest\")\n",
        "\n",
        "fpr = dict()\n",
        "tpr = dict()\n",
        "roc_auc = dict()\n",
        "figure, axis = plt.subplots(nrows=5, ncols=7, figsize=(20, 15))\n",
        "f = 0 # filas\n",
        "c = 0 # columnas\n",
        "\n",
        "for e in range(n_algort):\n",
        "  f = 0\n",
        "  for i in range(n_classes):\n",
        "    fpr[i], tpr[i], _ = roc_curve(test_Y[:, i], list(algort.values())[e][:, i])\n",
        "    roc_auc[i] = auc(fpr[i], tpr[i])\n",
        "\n",
        "    axis[f, c].plot(fpr[i], tpr[i], label='ROC curve (area = %0.2f)' % roc_auc[i])\n",
        "    axis[f, c].plot([0, 1], [0, 1], 'k--')\n",
        "    \n",
        "    f = f + 1\n",
        "    \n",
        "  c = c + 1\n",
        "plt.show()"
      ],
      "metadata": {
        "colab": {
          "base_uri": "https://localhost:8080/",
          "height": 1000
        },
        "id": "9bojqE2kQjWT",
        "outputId": "2ae06179-6882-4b16-c9b3-5a58e20b2126"
      },
      "execution_count": null,
      "outputs": [
        {
          "output_type": "stream",
          "name": "stdout",
          "text": [
            "['drugC' 'drugX' 'drugY' 'drugY' 'drugY' 'drugX' 'drugX' 'drugX' 'drugY'\n",
            " 'drugX' 'drugA' 'drugY' 'drugY' 'drugY' 'drugB' 'drugC' 'drugY' 'drugY'\n",
            " 'drugX' 'drugY' 'drugY' 'drugX' 'drugX' 'drugX' 'drugY' 'drugY' 'drugY'\n",
            " 'drugY' 'drugY' 'drugX' 'drugX' 'drugC' 'drugA' 'drugX' 'drugY' 'drugY'\n",
            " 'drugX' 'drugY' 'drugA' 'drugX' 'drugY' 'drugA' 'drugY' 'drugX' 'drugY'\n",
            " 'drugX' 'drugY' 'drugY' 'drugA' 'drugY' 'drugY' 'drugB' 'drugY' 'drugY'\n",
            " 'drugC' 'drugY' 'drugX' 'drugX' 'drugY' 'drugB' 'drugY' 'drugY' 'drugX'\n",
            " 'drugY' 'drugX' 'drugY']\n",
            "[2 3 4 4 4 3 3 3 4 3 0 4 4 4 1 2 4 4 3 4 4 3 3 3 4 4 4 4 4 3 3 2 0 3 4 4 3\n",
            " 4 0 3 4 0 4 3 4 3 4 4 0 4 4 1 4 4 2 4 3 3 4 1 4 4 3 4 3 4]\n",
            ">DrugY: 0\n",
            ">drugA: 1\n",
            ">drugB: 2\n",
            ">drugC: 3\n",
            ">drugX: 4\n",
            "#IMPORTANTE: Las filas están ordenadas del 0 al 4, siendo 0 (DrugY) la primera fila y 4 (drugX) la última.\n",
            "y_prob_logisregression \ty_prob_KNN \t\ty_prob_SVCLinear \ty_prob_SVC \ty_prob_NaiveBayes \ty_prob_classifierTree \ty_prob_classifierRndForest\n"
          ]
        },
        {
          "output_type": "display_data",
          "data": {
            "text/plain": [
              "<Figure size 1440x1080 with 35 Axes>"
            ],
            "image/png": "[encoded data removed]"
          },
          "metadata": {
            "needs_background": "light"
          }
        }
      ]
    },
    {
      "cell_type": "code",
      "source": [
        "# Evaluamos el rendimiento del modelo en el conjunto de entrenamiento\n",
        "train_acc_lr = accuracy_score(y_train, logisregression.predict(X_train))\n",
        "train_acc_kn = accuracy_score(y_train, classifierK_NN.predict(X_train))\n",
        "train_acc_svc_linear = accuracy_score(y_train, classifierSVCLinear.predict(X_train))\n",
        "train_acc_svc = accuracy_score(y_train, classifierSVC.predict(X_train))\n",
        "train_acc_nb = accuracy_score(y_train, classifierNaiveBayes.predict(X_train))\n",
        "train_acc_tree = accuracy_score(y_train, classifierDecisionTree.predict(X_train))\n",
        "train_acc_rf = accuracy_score(y_train, classifierRandomForest.predict(X_train))\n",
        "\n",
        "# Evaluamos el rendimiento del modelo en el conjunto de prueba\n",
        "test_acc_lr = accuracy_score(y_test, logisregression.predict(X_test))\n",
        "test_acc_kn = accuracy_score(y_test, classifierK_NN.predict(X_test))\n",
        "test_acc_svc_linear = accuracy_score(y_test, classifierSVCLinear.predict(X_test))\n",
        "test_acc_svc = accuracy_score(y_test, classifierSVC.predict(X_test))\n",
        "test_acc_nb = accuracy_score(y_test, classifierNaiveBayes.predict(X_test))\n",
        "test_acc_tree = accuracy_score(y_test, classifierDecisionTree.predict(X_test))\n",
        "test_acc_rf = accuracy_score(y_test, classifierRandomForest.predict(X_test))\n",
        "\n",
        "# Imprimimos los puntajes de precisión\n",
        "print(\"LR: Puntaje de precisión en entrenamiento: {:.2f}\".format(train_acc_lr))\n",
        "print(\"LR: Puntaje de precisión en prueba: {:.2f}\".format(test_acc_lr))\n",
        "print(\"\")\n",
        "print(\"KN: Puntaje de precisión en entrenamiento: {:.2f}\".format(train_acc_kn))\n",
        "print(\"KN: Puntaje de precisión en prueba: {:.2f}\".format(test_acc_kn))\n",
        "print(\"\")\n",
        "print(\"SVC Linear: Puntaje de precisión en entrenamiento: {:.2f}\".format(train_acc_svc_linear))\n",
        "print(\"SVC Linear: Puntaje de precisión en prueba: {:.2f}\".format(test_acc_svc_linear))\n",
        "print(\"\")\n",
        "print(\"SVC RBF: Puntaje de precisión en entrenamiento: {:.2f}\".format(train_acc_svc))\n",
        "print(\"SVC RBF: Puntaje de precisión en prueba: {:.2f}\".format(test_acc_svc))\n",
        "print(\"\")\n",
        "print(\"NB: Puntaje de precisión en entrenamiento: {:.2f}\".format(train_acc_nb))\n",
        "print(\"NB: Puntaje de precisión en prueba: {:.2f}\".format(test_acc_nb))\n",
        "print(\"\")\n",
        "print(\"TREE: Puntaje de precisión en entrenamiento: {:.2f}\".format(train_acc_tree))\n",
        "print(\"TREE: Puntaje de precisión en prueba: {:.2f}\".format(test_acc_tree))\n",
        "print(\"\")\n",
        "print(\"RF: Puntaje de precisión en entrenamiento: {:.2f}\".format(train_acc_rf))\n",
        "print(\"RF: Puntaje de precisión en prueba: {:.2f}\".format(test_acc_rf))"
      ],
      "metadata": {
        "colab": {
          "base_uri": "https://localhost:8080/"
        },
        "id": "6W1gfFGnpNJT",
        "outputId": "b6e36dd5-ec49-4360-fbbc-876303f1baba"
      },
      "execution_count": null,
      "outputs": [
        {
          "output_type": "stream",
          "name": "stdout",
          "text": [
            "LR: Puntaje de precisión en entrenamiento: 0.93\n",
            "LR: Puntaje de precisión en prueba: 0.91\n",
            "\n",
            "KN: Puntaje de precisión en entrenamiento: 0.85\n",
            "KN: Puntaje de precisión en prueba: 0.64\n",
            "\n",
            "SVC Linear: Puntaje de precisión en entrenamiento: 0.91\n",
            "SVC Linear: Puntaje de precisión en prueba: 0.86\n",
            "\n",
            "SVC RBF: Puntaje de precisión en entrenamiento: 0.87\n",
            "SVC RBF: Puntaje de precisión en prueba: 0.79\n",
            "\n",
            "NB: Puntaje de precisión en entrenamiento: 0.72\n",
            "NB: Puntaje de precisión en prueba: 0.76\n",
            "\n",
            "TREE: Puntaje de precisión en entrenamiento: 1.00\n",
            "TREE: Puntaje de precisión en prueba: 0.98\n",
            "\n",
            "RF: Puntaje de precisión en entrenamiento: 0.99\n",
            "RF: Puntaje de precisión en prueba: 0.98\n"
          ]
        }
      ]
    },
    {
      "cell_type": "code",
      "source": [
        "# Los arboles de clasificación son los que mejores resultados han dado tanto con los datos de entrenamiento COMO LOS DE PRUEBA.\n",
        "# Por lo que se entiende que son capaces de generalizar bien.\n",
        "# En un tercer puesto estaría la regresión logística.\n",
        "# Y ya por último, el resto de algoritmos. Los cuales tienen resultados muy disparejos entre los datos de prueba y entrenamiento, por lo que no lo han hecho bien.\n",
        "# El que menos mal ha salido sería las máquinas de soporte vectorial, las cuales lo han hecho mas o menos bien pero no tan bien como esperaba. Teniendo una puntuación por debajo de 90%.\n",
        "# Algo curioso a destacar es como el algoritmo de Naive Bayes ha obtenido mejor resultado con los datos de prueba que con los de entrenamiento, cuando esto suele ser al revés. Aún así, el resultado sigue siendo muy bajo,\n",
        "# con una puntuación por debajo del 80%.\n",
        "\n",
        "# Solamente considero cómo éxito los modelos con una puntuación en los datos de prueba, superior al 90%. Con un margen de error no superior al 10%. \n",
        "# El resto de modelos con puntuaciones de acierto inferiores a ese porcentaje no son fiables."
      ],
      "metadata": {
        "id": "GQeip8fVs7fz"
      },
      "execution_count": 146,
      "outputs": []
    },
    {
      "cell_type": "code",
      "source": [
        "from sklearn import svm\n",
        "from sklearn.ensemble import RandomForestClassifier\n",
        "from sklearn.linear_model import LogisticRegression\n",
        "\n",
        "# define model dictionary\n",
        "models = {\n",
        "    'LogisticRegression': LogisticRegression(random_state = 0 ),\n",
        "    'KNeighborsClassifier': KNeighborsClassifier(),\n",
        "    'SVC': SVC(random_state = 0),\n",
        "    #'SVCLineal': SVC(kernel = 'linear', probability=True, random_state = 0),\n",
        "    #'SVCNonLineal': SVC(kernel = 'rbf', probability=True, random_state = 0),\n",
        "    #'GaussianNB': GaussianNB(),\n",
        "    'DecisionTreeClassifier': DecisionTreeClassifier(random_state = 0),\n",
        "    'RandomForestClassifier': RandomForestClassifier(random_state = 0)\n",
        "}\n",
        "# define parameters dictionary\n",
        "params = { \n",
        "    'LogisticRegression': {'C': [1, 5, 10], 'multi_class': ['ovr', 'multinomial', 'auto'], 'penalty': ['l1', 'l2', 'elasticnet', None], 'dual': [True, False, None], 'solver': ['lbfgs', 'newton-cg', 'newton-cholesky', 'sag', 'saga']},\n",
        "    'KNeighborsClassifier': {'n_neighbors': [1, 5, 10], 'metric': ['minkowski'], 'p': [1, 2], 'leaf_size': [10, 20, 30, 40], 'weights': ['uniform', 'distance'], 'algorithm': ['auto', 'ball_tree', 'kd_tree', 'brute']},\n",
        "    'SVC': {'C': [1,10,20], 'probability': [True, False], 'kernel': ['rbf', 'linear', 'poly', 'sigmoid'], 'gamma': ['scale', 'auto']},\n",
        "    #'GaussianNB': {'': ['']},\n",
        "    'DecisionTreeClassifier': {'criterion': ['gini', 'entropy', 'log_loss'], 'splitter': ['best', 'random'], 'min_samples_split': [2, 4, 6], 'min_samples_leaf': [1, 2, 4, 6], 'max_features': [None, 'auto', 'sqrt', 'log2']},\n",
        "    'RandomForestClassifier': {'n_estimators': [10, 20, 40, 60, 80, 100, 120, 140, 160, 180, 200], 'criterion': ['gini', 'entropy', 'log_loss'], 'min_samples_split': [2, 4, 6], 'min_samples_leaf': [1, 2, 4, 6], 'max_features': ['sqrt', 'log2', None, 2, 4, 6, 8, 10]}\n",
        "}"
      ],
      "metadata": {
        "id": "1pwHxWTeHj26"
      },
      "execution_count": null,
      "outputs": []
    },
    {
      "cell_type": "code",
      "source": [
        "from sklearn.model_selection import GridSearchCV\n",
        "\n",
        "scores = []\n",
        "\n",
        "for i in models.keys():\n",
        "    clf =  GridSearchCV(models[i], params[i], cv=5, return_train_score=False)\n",
        "    clf.fit(X_train, y_train)\n",
        "    scores.append({\n",
        "        'model': models[i],\n",
        "        'best_score': clf.best_score_,\n",
        "        'best_params': clf.best_params_\n",
        "    })"
      ],
      "metadata": {
        "id": "gTisgJG5IDTB",
        "colab": {
          "base_uri": "https://localhost:8080/"
        },
        "outputId": "09e2a5b2-ac1d-48e9-c537-469e44ddb7a0"
      },
      "execution_count": null,
      "outputs": [
        {
          "output_type": "stream",
          "name": "stderr",
          "text": [
            "/usr/local/lib/python3.8/dist-packages/sklearn/model_selection/_validation.py:372: FitFailedWarning: \n",
            "2700 fits failed out of a total of 3240.\n",
            "The score on these train-test partitions for these parameters will be set to nan.\n",
            "If these failures are not expected, you can try to debug them by setting error_score='raise'.\n",
            "\n",
            "Below are more details about the failures:\n",
            "--------------------------------------------------------------------------------\n",
            "135 fits failed with the following error:\n",
            "Traceback (most recent call last):\n",
            "  File \"/usr/local/lib/python3.8/dist-packages/sklearn/model_selection/_validation.py\", line 680, in _fit_and_score\n",
            "    estimator.fit(X_train, y_train, **fit_params)\n",
            "  File \"/usr/local/lib/python3.8/dist-packages/sklearn/linear_model/_logistic.py\", line 1461, in fit\n",
            "    solver = _check_solver(self.solver, self.penalty, self.dual)\n",
            "  File \"/usr/local/lib/python3.8/dist-packages/sklearn/linear_model/_logistic.py\", line 447, in _check_solver\n",
            "    raise ValueError(\n",
            "ValueError: Solver lbfgs supports only 'l2' or 'none' penalties, got l1 penalty.\n",
            "\n",
            "--------------------------------------------------------------------------------\n",
            "30 fits failed with the following error:\n",
            "Traceback (most recent call last):\n",
            "  File \"/usr/local/lib/python3.8/dist-packages/sklearn/model_selection/_validation.py\", line 680, in _fit_and_score\n",
            "    estimator.fit(X_train, y_train, **fit_params)\n",
            "  File \"/usr/local/lib/python3.8/dist-packages/sklearn/linear_model/_logistic.py\", line 1528, in fit\n",
            "    self.coef_, self.intercept_, n_iter_ = _fit_liblinear(\n",
            "  File \"/usr/local/lib/python3.8/dist-packages/sklearn/svm/_base.py\", line 1185, in _fit_liblinear\n",
            "    solver_type = _get_liblinear_solver_type(multi_class, penalty, loss, dual)\n",
            "  File \"/usr/local/lib/python3.8/dist-packages/sklearn/svm/_base.py\", line 1024, in _get_liblinear_solver_type\n",
            "    raise ValueError(\n",
            "ValueError: Unsupported set of arguments: The combination of penalty='l1' and loss='logistic_regression' are not supported when dual=True, Parameters: penalty='l1', loss='logistic_regression', dual=True\n",
            "\n",
            "--------------------------------------------------------------------------------\n",
            "135 fits failed with the following error:\n",
            "Traceback (most recent call last):\n",
            "  File \"/usr/local/lib/python3.8/dist-packages/sklearn/model_selection/_validation.py\", line 680, in _fit_and_score\n",
            "    estimator.fit(X_train, y_train, **fit_params)\n",
            "  File \"/usr/local/lib/python3.8/dist-packages/sklearn/linear_model/_logistic.py\", line 1461, in fit\n",
            "    solver = _check_solver(self.solver, self.penalty, self.dual)\n",
            "  File \"/usr/local/lib/python3.8/dist-packages/sklearn/linear_model/_logistic.py\", line 447, in _check_solver\n",
            "    raise ValueError(\n",
            "ValueError: Solver newton-cg supports only 'l2' or 'none' penalties, got l1 penalty.\n",
            "\n",
            "--------------------------------------------------------------------------------\n",
            "540 fits failed with the following error:\n",
            "Traceback (most recent call last):\n",
            "  File \"/usr/local/lib/python3.8/dist-packages/sklearn/model_selection/_validation.py\", line 680, in _fit_and_score\n",
            "    estimator.fit(X_train, y_train, **fit_params)\n",
            "  File \"/usr/local/lib/python3.8/dist-packages/sklearn/linear_model/_logistic.py\", line 1461, in fit\n",
            "    solver = _check_solver(self.solver, self.penalty, self.dual)\n",
            "  File \"/usr/local/lib/python3.8/dist-packages/sklearn/linear_model/_logistic.py\", line 434, in _check_solver\n",
            "    raise ValueError(\n",
            "ValueError: Logistic Regression supports only solvers in ['liblinear', 'newton-cg', 'lbfgs', 'sag', 'saga'], got newton-cholesky.\n",
            "\n",
            "--------------------------------------------------------------------------------\n",
            "135 fits failed with the following error:\n",
            "Traceback (most recent call last):\n",
            "  File \"/usr/local/lib/python3.8/dist-packages/sklearn/model_selection/_validation.py\", line 680, in _fit_and_score\n",
            "    estimator.fit(X_train, y_train, **fit_params)\n",
            "  File \"/usr/local/lib/python3.8/dist-packages/sklearn/linear_model/_logistic.py\", line 1461, in fit\n",
            "    solver = _check_solver(self.solver, self.penalty, self.dual)\n",
            "  File \"/usr/local/lib/python3.8/dist-packages/sklearn/linear_model/_logistic.py\", line 447, in _check_solver\n",
            "    raise ValueError(\n",
            "ValueError: Solver sag supports only 'l2' or 'none' penalties, got l1 penalty.\n",
            "\n",
            "--------------------------------------------------------------------------------\n",
            "135 fits failed with the following error:\n",
            "Traceback (most recent call last):\n",
            "  File \"/usr/local/lib/python3.8/dist-packages/sklearn/model_selection/_validation.py\", line 680, in _fit_and_score\n",
            "    estimator.fit(X_train, y_train, **fit_params)\n",
            "  File \"/usr/local/lib/python3.8/dist-packages/sklearn/linear_model/_logistic.py\", line 1461, in fit\n",
            "    solver = _check_solver(self.solver, self.penalty, self.dual)\n",
            "  File \"/usr/local/lib/python3.8/dist-packages/sklearn/linear_model/_logistic.py\", line 452, in _check_solver\n",
            "    raise ValueError(\n",
            "ValueError: Solver saga supports only dual=False, got dual=True\n",
            "\n",
            "--------------------------------------------------------------------------------\n",
            "45 fits failed with the following error:\n",
            "Traceback (most recent call last):\n",
            "  File \"/usr/local/lib/python3.8/dist-packages/sklearn/model_selection/_validation.py\", line 680, in _fit_and_score\n",
            "    estimator.fit(X_train, y_train, **fit_params)\n",
            "  File \"/usr/local/lib/python3.8/dist-packages/sklearn/linear_model/_logistic.py\", line 1461, in fit\n",
            "    solver = _check_solver(self.solver, self.penalty, self.dual)\n",
            "  File \"/usr/local/lib/python3.8/dist-packages/sklearn/linear_model/_logistic.py\", line 452, in _check_solver\n",
            "    raise ValueError(\n",
            "ValueError: Solver lbfgs supports only dual=False, got dual=True\n",
            "\n",
            "--------------------------------------------------------------------------------\n",
            "45 fits failed with the following error:\n",
            "Traceback (most recent call last):\n",
            "  File \"/usr/local/lib/python3.8/dist-packages/sklearn/model_selection/_validation.py\", line 680, in _fit_and_score\n",
            "    estimator.fit(X_train, y_train, **fit_params)\n",
            "  File \"/usr/local/lib/python3.8/dist-packages/sklearn/linear_model/_logistic.py\", line 1461, in fit\n",
            "    solver = _check_solver(self.solver, self.penalty, self.dual)\n",
            "  File \"/usr/local/lib/python3.8/dist-packages/sklearn/linear_model/_logistic.py\", line 452, in _check_solver\n",
            "    raise ValueError(\n",
            "ValueError: Solver newton-cg supports only dual=False, got dual=True\n",
            "\n",
            "--------------------------------------------------------------------------------\n",
            "45 fits failed with the following error:\n",
            "Traceback (most recent call last):\n",
            "  File \"/usr/local/lib/python3.8/dist-packages/sklearn/model_selection/_validation.py\", line 680, in _fit_and_score\n",
            "    estimator.fit(X_train, y_train, **fit_params)\n",
            "  File \"/usr/local/lib/python3.8/dist-packages/sklearn/linear_model/_logistic.py\", line 1461, in fit\n",
            "    solver = _check_solver(self.solver, self.penalty, self.dual)\n",
            "  File \"/usr/local/lib/python3.8/dist-packages/sklearn/linear_model/_logistic.py\", line 452, in _check_solver\n",
            "    raise ValueError(\n",
            "ValueError: Solver sag supports only dual=False, got dual=True\n",
            "\n",
            "--------------------------------------------------------------------------------\n",
            "135 fits failed with the following error:\n",
            "Traceback (most recent call last):\n",
            "  File \"/usr/local/lib/python3.8/dist-packages/sklearn/model_selection/_validation.py\", line 680, in _fit_and_score\n",
            "    estimator.fit(X_train, y_train, **fit_params)\n",
            "  File \"/usr/local/lib/python3.8/dist-packages/sklearn/linear_model/_logistic.py\", line 1461, in fit\n",
            "    solver = _check_solver(self.solver, self.penalty, self.dual)\n",
            "  File \"/usr/local/lib/python3.8/dist-packages/sklearn/linear_model/_logistic.py\", line 447, in _check_solver\n",
            "    raise ValueError(\n",
            "ValueError: Solver lbfgs supports only 'l2' or 'none' penalties, got elasticnet penalty.\n",
            "\n",
            "--------------------------------------------------------------------------------\n",
            "135 fits failed with the following error:\n",
            "Traceback (most recent call last):\n",
            "  File \"/usr/local/lib/python3.8/dist-packages/sklearn/model_selection/_validation.py\", line 680, in _fit_and_score\n",
            "    estimator.fit(X_train, y_train, **fit_params)\n",
            "  File \"/usr/local/lib/python3.8/dist-packages/sklearn/linear_model/_logistic.py\", line 1461, in fit\n",
            "    solver = _check_solver(self.solver, self.penalty, self.dual)\n",
            "  File \"/usr/local/lib/python3.8/dist-packages/sklearn/linear_model/_logistic.py\", line 457, in _check_solver\n",
            "    raise ValueError(\n",
            "ValueError: Only 'saga' solver supports elasticnet penalty, got solver=liblinear.\n",
            "\n",
            "--------------------------------------------------------------------------------\n",
            "135 fits failed with the following error:\n",
            "Traceback (most recent call last):\n",
            "  File \"/usr/local/lib/python3.8/dist-packages/sklearn/model_selection/_validation.py\", line 680, in _fit_and_score\n",
            "    estimator.fit(X_train, y_train, **fit_params)\n",
            "  File \"/usr/local/lib/python3.8/dist-packages/sklearn/linear_model/_logistic.py\", line 1461, in fit\n",
            "    solver = _check_solver(self.solver, self.penalty, self.dual)\n",
            "  File \"/usr/local/lib/python3.8/dist-packages/sklearn/linear_model/_logistic.py\", line 447, in _check_solver\n",
            "    raise ValueError(\n",
            "ValueError: Solver newton-cg supports only 'l2' or 'none' penalties, got elasticnet penalty.\n",
            "\n",
            "--------------------------------------------------------------------------------\n",
            "135 fits failed with the following error:\n",
            "Traceback (most recent call last):\n",
            "  File \"/usr/local/lib/python3.8/dist-packages/sklearn/model_selection/_validation.py\", line 680, in _fit_and_score\n",
            "    estimator.fit(X_train, y_train, **fit_params)\n",
            "  File \"/usr/local/lib/python3.8/dist-packages/sklearn/linear_model/_logistic.py\", line 1461, in fit\n",
            "    solver = _check_solver(self.solver, self.penalty, self.dual)\n",
            "  File \"/usr/local/lib/python3.8/dist-packages/sklearn/linear_model/_logistic.py\", line 447, in _check_solver\n",
            "    raise ValueError(\n",
            "ValueError: Solver sag supports only 'l2' or 'none' penalties, got elasticnet penalty.\n",
            "\n",
            "--------------------------------------------------------------------------------\n",
            "675 fits failed with the following error:\n",
            "Traceback (most recent call last):\n",
            "  File \"/usr/local/lib/python3.8/dist-packages/sklearn/model_selection/_validation.py\", line 680, in _fit_and_score\n",
            "    estimator.fit(X_train, y_train, **fit_params)\n",
            "  File \"/usr/local/lib/python3.8/dist-packages/sklearn/linear_model/_logistic.py\", line 1461, in fit\n",
            "    solver = _check_solver(self.solver, self.penalty, self.dual)\n",
            "  File \"/usr/local/lib/python3.8/dist-packages/sklearn/linear_model/_logistic.py\", line 441, in _check_solver\n",
            "    raise ValueError(\n",
            "ValueError: Logistic Regression supports only penalties in ['l1', 'l2', 'elasticnet', 'none'], got None.\n",
            "\n",
            "--------------------------------------------------------------------------------\n",
            "90 fits failed with the following error:\n",
            "Traceback (most recent call last):\n",
            "  File \"/usr/local/lib/python3.8/dist-packages/sklearn/model_selection/_validation.py\", line 680, in _fit_and_score\n",
            "    estimator.fit(X_train, y_train, **fit_params)\n",
            "  File \"/usr/local/lib/python3.8/dist-packages/sklearn/linear_model/_logistic.py\", line 1519, in fit\n",
            "    multi_class = _check_multi_class(self.multi_class, solver, len(self.classes_))\n",
            "  File \"/usr/local/lib/python3.8/dist-packages/sklearn/linear_model/_logistic.py\", line 483, in _check_multi_class\n",
            "    raise ValueError(\"Solver %s does not support a multinomial backend.\" % solver)\n",
            "ValueError: Solver liblinear does not support a multinomial backend.\n",
            "\n",
            "--------------------------------------------------------------------------------\n",
            "90 fits failed with the following error:\n",
            "Traceback (most recent call last):\n",
            "  File \"/usr/local/lib/python3.8/dist-packages/sklearn/model_selection/_validation.py\", line 680, in _fit_and_score\n",
            "    estimator.fit(X_train, y_train, **fit_params)\n",
            "  File \"/usr/local/lib/python3.8/dist-packages/sklearn/linear_model/_logistic.py\", line 1471, in fit\n",
            "    raise ValueError(\n",
            "ValueError: l1_ratio must be between 0 and 1; got (l1_ratio=None)\n",
            "\n",
            "--------------------------------------------------------------------------------\n",
            "30 fits failed with the following error:\n",
            "Traceback (most recent call last):\n",
            "  File \"/usr/local/lib/python3.8/dist-packages/sklearn/model_selection/_validation.py\", line 680, in _fit_and_score\n",
            "    estimator.fit(X_train, y_train, **fit_params)\n",
            "  File \"/usr/local/lib/python3.8/dist-packages/sklearn/linear_model/_logistic.py\", line 1528, in fit\n",
            "    self.coef_, self.intercept_, n_iter_ = _fit_liblinear(\n",
            "  File \"/usr/local/lib/python3.8/dist-packages/sklearn/svm/_base.py\", line 1185, in _fit_liblinear\n",
            "    solver_type = _get_liblinear_solver_type(multi_class, penalty, loss, dual)\n",
            "  File \"/usr/local/lib/python3.8/dist-packages/sklearn/svm/_base.py\", line 1024, in _get_liblinear_solver_type\n",
            "    raise ValueError(\n",
            "ValueError: Unsupported set of arguments: The combination of penalty='l1' and loss='logistic_regression' are not supported when dual=None, Parameters: penalty='l1', loss='logistic_regression', dual=None\n",
            "\n",
            "--------------------------------------------------------------------------------\n",
            "30 fits failed with the following error:\n",
            "Traceback (most recent call last):\n",
            "  File \"/usr/local/lib/python3.8/dist-packages/sklearn/model_selection/_validation.py\", line 680, in _fit_and_score\n",
            "    estimator.fit(X_train, y_train, **fit_params)\n",
            "  File \"/usr/local/lib/python3.8/dist-packages/sklearn/linear_model/_logistic.py\", line 1528, in fit\n",
            "    self.coef_, self.intercept_, n_iter_ = _fit_liblinear(\n",
            "  File \"/usr/local/lib/python3.8/dist-packages/sklearn/svm/_base.py\", line 1185, in _fit_liblinear\n",
            "    solver_type = _get_liblinear_solver_type(multi_class, penalty, loss, dual)\n",
            "  File \"/usr/local/lib/python3.8/dist-packages/sklearn/svm/_base.py\", line 1024, in _get_liblinear_solver_type\n",
            "    raise ValueError(\n",
            "ValueError: Unsupported set of arguments: The combination of penalty='l2' and loss='logistic_regression' are not supported when dual=None, Parameters: penalty='l2', loss='logistic_regression', dual=None\n",
            "\n",
            "  warnings.warn(some_fits_failed_message, FitFailedWarning)\n",
            "/usr/local/lib/python3.8/dist-packages/sklearn/model_selection/_validation.py:372: FitFailedWarning: \n",
            "1920 fits failed out of a total of 2880.\n",
            "The score on these train-test partitions for these parameters will be set to nan.\n",
            "If these failures are not expected, you can try to debug them by setting error_score='raise'.\n",
            "\n",
            "Below are more details about the failures:\n",
            "--------------------------------------------------------------------------------\n",
            "480 fits failed with the following error:\n",
            "Traceback (most recent call last):\n",
            "  File \"/usr/local/lib/python3.8/dist-packages/sklearn/model_selection/_validation.py\", line 680, in _fit_and_score\n",
            "    estimator.fit(X_train, y_train, **fit_params)\n",
            "  File \"/usr/local/lib/python3.8/dist-packages/sklearn/neighbors/_classification.py\", line 198, in fit\n",
            "    return self._fit(X, y)\n",
            "  File \"/usr/local/lib/python3.8/dist-packages/sklearn/neighbors/_base.py\", line 437, in _fit\n",
            "    self._check_algorithm_metric()\n",
            "  File \"/usr/local/lib/python3.8/dist-packages/sklearn/neighbors/_base.py\", line 374, in _check_algorithm_metric\n",
            "    raise ValueError(\n",
            "ValueError: Metric 'str' not valid. Use sorted(sklearn.neighbors.VALID_METRICS['brute']) to get valid options. Metric can also be a callable function.\n",
            "\n",
            "--------------------------------------------------------------------------------\n",
            "480 fits failed with the following error:\n",
            "Traceback (most recent call last):\n",
            "  File \"/usr/local/lib/python3.8/dist-packages/sklearn/model_selection/_validation.py\", line 680, in _fit_and_score\n",
            "    estimator.fit(X_train, y_train, **fit_params)\n",
            "  File \"/usr/local/lib/python3.8/dist-packages/sklearn/neighbors/_classification.py\", line 198, in fit\n",
            "    return self._fit(X, y)\n",
            "  File \"/usr/local/lib/python3.8/dist-packages/sklearn/neighbors/_base.py\", line 437, in _fit\n",
            "    self._check_algorithm_metric()\n",
            "  File \"/usr/local/lib/python3.8/dist-packages/sklearn/neighbors/_base.py\", line 374, in _check_algorithm_metric\n",
            "    raise ValueError(\n",
            "ValueError: Metric 'callable' not valid. Use sorted(sklearn.neighbors.VALID_METRICS['brute']) to get valid options. Metric can also be a callable function.\n",
            "\n",
            "--------------------------------------------------------------------------------\n",
            "240 fits failed with the following error:\n",
            "Traceback (most recent call last):\n",
            "  File \"/usr/local/lib/python3.8/dist-packages/sklearn/model_selection/_validation.py\", line 680, in _fit_and_score\n",
            "    estimator.fit(X_train, y_train, **fit_params)\n",
            "  File \"/usr/local/lib/python3.8/dist-packages/sklearn/neighbors/_classification.py\", line 198, in fit\n",
            "    return self._fit(X, y)\n",
            "  File \"/usr/local/lib/python3.8/dist-packages/sklearn/neighbors/_base.py\", line 437, in _fit\n",
            "    self._check_algorithm_metric()\n",
            "  File \"/usr/local/lib/python3.8/dist-packages/sklearn/neighbors/_base.py\", line 374, in _check_algorithm_metric\n",
            "    raise ValueError(\n",
            "ValueError: Metric 'str' not valid. Use sorted(sklearn.neighbors.VALID_METRICS['ball_tree']) to get valid options. Metric can also be a callable function.\n",
            "\n",
            "--------------------------------------------------------------------------------\n",
            "240 fits failed with the following error:\n",
            "Traceback (most recent call last):\n",
            "  File \"/usr/local/lib/python3.8/dist-packages/sklearn/model_selection/_validation.py\", line 680, in _fit_and_score\n",
            "    estimator.fit(X_train, y_train, **fit_params)\n",
            "  File \"/usr/local/lib/python3.8/dist-packages/sklearn/neighbors/_classification.py\", line 198, in fit\n",
            "    return self._fit(X, y)\n",
            "  File \"/usr/local/lib/python3.8/dist-packages/sklearn/neighbors/_base.py\", line 437, in _fit\n",
            "    self._check_algorithm_metric()\n",
            "  File \"/usr/local/lib/python3.8/dist-packages/sklearn/neighbors/_base.py\", line 374, in _check_algorithm_metric\n",
            "    raise ValueError(\n",
            "ValueError: Metric 'callable' not valid. Use sorted(sklearn.neighbors.VALID_METRICS['ball_tree']) to get valid options. Metric can also be a callable function.\n",
            "\n",
            "--------------------------------------------------------------------------------\n",
            "240 fits failed with the following error:\n",
            "Traceback (most recent call last):\n",
            "  File \"/usr/local/lib/python3.8/dist-packages/sklearn/model_selection/_validation.py\", line 680, in _fit_and_score\n",
            "    estimator.fit(X_train, y_train, **fit_params)\n",
            "  File \"/usr/local/lib/python3.8/dist-packages/sklearn/neighbors/_classification.py\", line 198, in fit\n",
            "    return self._fit(X, y)\n",
            "  File \"/usr/local/lib/python3.8/dist-packages/sklearn/neighbors/_base.py\", line 437, in _fit\n",
            "    self._check_algorithm_metric()\n",
            "  File \"/usr/local/lib/python3.8/dist-packages/sklearn/neighbors/_base.py\", line 374, in _check_algorithm_metric\n",
            "    raise ValueError(\n",
            "ValueError: Metric 'str' not valid. Use sorted(sklearn.neighbors.VALID_METRICS['kd_tree']) to get valid options. Metric can also be a callable function.\n",
            "\n",
            "--------------------------------------------------------------------------------\n",
            "240 fits failed with the following error:\n",
            "Traceback (most recent call last):\n",
            "  File \"/usr/local/lib/python3.8/dist-packages/sklearn/model_selection/_validation.py\", line 680, in _fit_and_score\n",
            "    estimator.fit(X_train, y_train, **fit_params)\n",
            "  File \"/usr/local/lib/python3.8/dist-packages/sklearn/neighbors/_classification.py\", line 198, in fit\n",
            "    return self._fit(X, y)\n",
            "  File \"/usr/local/lib/python3.8/dist-packages/sklearn/neighbors/_base.py\", line 437, in _fit\n",
            "    self._check_algorithm_metric()\n",
            "  File \"/usr/local/lib/python3.8/dist-packages/sklearn/neighbors/_base.py\", line 374, in _check_algorithm_metric\n",
            "    raise ValueError(\n",
            "ValueError: Metric 'callable' not valid. Use sorted(sklearn.neighbors.VALID_METRICS['kd_tree']) to get valid options. Metric can also be a callable function.\n",
            "\n",
            "  warnings.warn(some_fits_failed_message, FitFailedWarning)\n",
            "/usr/local/lib/python3.8/dist-packages/sklearn/model_selection/_validation.py:372: FitFailedWarning: \n",
            "480 fits failed out of a total of 1440.\n",
            "The score on these train-test partitions for these parameters will be set to nan.\n",
            "If these failures are not expected, you can try to debug them by setting error_score='raise'.\n",
            "\n",
            "Below are more details about the failures:\n",
            "--------------------------------------------------------------------------------\n",
            "480 fits failed with the following error:\n",
            "Traceback (most recent call last):\n",
            "  File \"/usr/local/lib/python3.8/dist-packages/sklearn/model_selection/_validation.py\", line 680, in _fit_and_score\n",
            "    estimator.fit(X_train, y_train, **fit_params)\n",
            "  File \"/usr/local/lib/python3.8/dist-packages/sklearn/tree/_classes.py\", line 937, in fit\n",
            "    super().fit(\n",
            "  File \"/usr/local/lib/python3.8/dist-packages/sklearn/tree/_classes.py\", line 352, in fit\n",
            "    criterion = CRITERIA_CLF[self.criterion](\n",
            "KeyError: 'log_loss'\n",
            "\n",
            "  warnings.warn(some_fits_failed_message, FitFailedWarning)\n",
            "/usr/local/lib/python3.8/dist-packages/sklearn/model_selection/_validation.py:372: FitFailedWarning: \n",
            "7920 fits failed out of a total of 15840.\n",
            "The score on these train-test partitions for these parameters will be set to nan.\n",
            "If these failures are not expected, you can try to debug them by setting error_score='raise'.\n",
            "\n",
            "Below are more details about the failures:\n",
            "--------------------------------------------------------------------------------\n",
            "3960 fits failed with the following error:\n",
            "Traceback (most recent call last):\n",
            "  File \"/usr/local/lib/python3.8/dist-packages/sklearn/model_selection/_validation.py\", line 680, in _fit_and_score\n",
            "    estimator.fit(X_train, y_train, **fit_params)\n",
            "  File \"/usr/local/lib/python3.8/dist-packages/sklearn/ensemble/_forest.py\", line 450, in fit\n",
            "    trees = Parallel(\n",
            "  File \"/usr/local/lib/python3.8/dist-packages/joblib/parallel.py\", line 1085, in __call__\n",
            "    if self.dispatch_one_batch(iterator):\n",
            "  File \"/usr/local/lib/python3.8/dist-packages/joblib/parallel.py\", line 901, in dispatch_one_batch\n",
            "    self._dispatch(tasks)\n",
            "  File \"/usr/local/lib/python3.8/dist-packages/joblib/parallel.py\", line 819, in _dispatch\n",
            "    job = self._backend.apply_async(batch, callback=cb)\n",
            "  File \"/usr/local/lib/python3.8/dist-packages/joblib/_parallel_backends.py\", line 208, in apply_async\n",
            "    result = ImmediateResult(func)\n",
            "  File \"/usr/local/lib/python3.8/dist-packages/joblib/_parallel_backends.py\", line 597, in __init__\n",
            "    self.results = batch()\n",
            "  File \"/usr/local/lib/python3.8/dist-packages/joblib/parallel.py\", line 288, in __call__\n",
            "    return [func(*args, **kwargs)\n",
            "  File \"/usr/local/lib/python3.8/dist-packages/joblib/parallel.py\", line 288, in <listcomp>\n",
            "    return [func(*args, **kwargs)\n",
            "  File \"/usr/local/lib/python3.8/dist-packages/sklearn/utils/fixes.py\", line 216, in __call__\n",
            "    return self.function(*args, **kwargs)\n",
            "  File \"/usr/local/lib/python3.8/dist-packages/sklearn/ensemble/_forest.py\", line 185, in _parallel_build_trees\n",
            "    tree.fit(X, y, sample_weight=curr_sample_weight, check_input=False)\n",
            "  File \"/usr/local/lib/python3.8/dist-packages/sklearn/tree/_classes.py\", line 937, in fit\n",
            "    super().fit(\n",
            "  File \"/usr/local/lib/python3.8/dist-packages/sklearn/tree/_classes.py\", line 308, in fit\n",
            "    raise ValueError(\"max_features must be in (0, n_features]\")\n",
            "ValueError: max_features must be in (0, n_features]\n",
            "\n",
            "--------------------------------------------------------------------------------\n",
            "3960 fits failed with the following error:\n",
            "Traceback (most recent call last):\n",
            "  File \"/usr/local/lib/python3.8/dist-packages/sklearn/model_selection/_validation.py\", line 680, in _fit_and_score\n",
            "    estimator.fit(X_train, y_train, **fit_params)\n",
            "  File \"/usr/local/lib/python3.8/dist-packages/sklearn/ensemble/_forest.py\", line 450, in fit\n",
            "    trees = Parallel(\n",
            "  File \"/usr/local/lib/python3.8/dist-packages/joblib/parallel.py\", line 1085, in __call__\n",
            "    if self.dispatch_one_batch(iterator):\n",
            "  File \"/usr/local/lib/python3.8/dist-packages/joblib/parallel.py\", line 901, in dispatch_one_batch\n",
            "    self._dispatch(tasks)\n",
            "  File \"/usr/local/lib/python3.8/dist-packages/joblib/parallel.py\", line 819, in _dispatch\n",
            "    job = self._backend.apply_async(batch, callback=cb)\n",
            "  File \"/usr/local/lib/python3.8/dist-packages/joblib/_parallel_backends.py\", line 208, in apply_async\n",
            "    result = ImmediateResult(func)\n",
            "  File \"/usr/local/lib/python3.8/dist-packages/joblib/_parallel_backends.py\", line 597, in __init__\n",
            "    self.results = batch()\n",
            "  File \"/usr/local/lib/python3.8/dist-packages/joblib/parallel.py\", line 288, in __call__\n",
            "    return [func(*args, **kwargs)\n",
            "  File \"/usr/local/lib/python3.8/dist-packages/joblib/parallel.py\", line 288, in <listcomp>\n",
            "    return [func(*args, **kwargs)\n",
            "  File \"/usr/local/lib/python3.8/dist-packages/sklearn/utils/fixes.py\", line 216, in __call__\n",
            "    return self.function(*args, **kwargs)\n",
            "  File \"/usr/local/lib/python3.8/dist-packages/sklearn/ensemble/_forest.py\", line 185, in _parallel_build_trees\n",
            "    tree.fit(X, y, sample_weight=curr_sample_weight, check_input=False)\n",
            "  File \"/usr/local/lib/python3.8/dist-packages/sklearn/tree/_classes.py\", line 937, in fit\n",
            "    super().fit(\n",
            "  File \"/usr/local/lib/python3.8/dist-packages/sklearn/tree/_classes.py\", line 352, in fit\n",
            "    criterion = CRITERIA_CLF[self.criterion](\n",
            "KeyError: 'log_loss'\n",
            "\n",
            "  warnings.warn(some_fits_failed_message, FitFailedWarning)\n"
          ]
        }
      ]
    },
    {
      "cell_type": "code",
      "source": [
        "df = pd.DataFrame(scores,columns=['model','best_score','best_params'])\n",
        "df"
      ],
      "metadata": {
        "colab": {
          "base_uri": "https://localhost:8080/",
          "height": 206
        },
        "id": "OoSs2DabIYa8",
        "outputId": "74a2f941-578d-41b7-b28a-e565dd139e8f"
      },
      "execution_count": null,
      "outputs": [
        {
          "output_type": "execute_result",
          "data": {
            "text/plain": [
              "                                    model  best_score  \\\n",
              "0      LogisticRegression(random_state=0)    0.955556   \n",
              "1                  KNeighborsClassifier()    0.805698   \n",
              "2                     SVC(random_state=0)    0.911111   \n",
              "3  DecisionTreeClassifier(random_state=0)    0.992593   \n",
              "4  RandomForestClassifier(random_state=0)    0.992593   \n",
              "\n",
              "                                         best_params  \n",
              "0  {'C': 1, 'dual': False, 'multi_class': 'ovr', ...  \n",
              "1  {'algorithm': 'auto', 'leaf_size': 10, 'metric...  \n",
              "2  {'C': 20, 'gamma': 'scale', 'kernel': 'linear'...  \n",
              "3  {'criterion': 'entropy', 'max_features': 'auto...  \n",
              "4  {'criterion': 'gini', 'max_features': 'sqrt', ...  "
            ],
            "text/html": [
              "\n",
              "  <div id=\"df-d210d9d1-27a4-497e-9bc6-5601fd6ef2bf\">\n",
              "    <div class=\"colab-df-container\">\n",
              "      <div>\n",
              "<style scoped>\n",
              "    .dataframe tbody tr th:only-of-type {\n",
              "        vertical-align: middle;\n",
              "    }\n",
              "\n",
              "    .dataframe tbody tr th {\n",
              "        vertical-align: top;\n",
              "    }\n",
              "\n",
              "    .dataframe thead th {\n",
              "        text-align: right;\n",
              "    }\n",
              "</style>\n",
              "<table border=\"1\" class=\"dataframe\">\n",
              "  <thead>\n",
              "    <tr style=\"text-align: right;\">\n",
              "      <th></th>\n",
              "      <th>model</th>\n",
              "      <th>best_score</th>\n",
              "      <th>best_params</th>\n",
              "    </tr>\n",
              "  </thead>\n",
              "  <tbody>\n",
              "    <tr>\n",
              "      <th>0</th>\n",
              "      <td>LogisticRegression(random_state=0)</td>\n",
              "      <td>0.955556</td>\n",
              "      <td>{'C': 1, 'dual': False, 'multi_class': 'ovr', ...</td>\n",
              "    </tr>\n",
              "    <tr>\n",
              "      <th>1</th>\n",
              "      <td>KNeighborsClassifier()</td>\n",
              "      <td>0.805698</td>\n",
              "      <td>{'algorithm': 'auto', 'leaf_size': 10, 'metric...</td>\n",
              "    </tr>\n",
              "    <tr>\n",
              "      <th>2</th>\n",
              "      <td>SVC(random_state=0)</td>\n",
              "      <td>0.911111</td>\n",
              "      <td>{'C': 20, 'gamma': 'scale', 'kernel': 'linear'...</td>\n",
              "    </tr>\n",
              "    <tr>\n",
              "      <th>3</th>\n",
              "      <td>DecisionTreeClassifier(random_state=0)</td>\n",
              "      <td>0.992593</td>\n",
              "      <td>{'criterion': 'entropy', 'max_features': 'auto...</td>\n",
              "    </tr>\n",
              "    <tr>\n",
              "      <th>4</th>\n",
              "      <td>RandomForestClassifier(random_state=0)</td>\n",
              "      <td>0.992593</td>\n",
              "      <td>{'criterion': 'gini', 'max_features': 'sqrt', ...</td>\n",
              "    </tr>\n",
              "  </tbody>\n",
              "</table>\n",
              "</div>\n",
              "      <button class=\"colab-df-convert\" onclick=\"convertToInteractive('df-d210d9d1-27a4-497e-9bc6-5601fd6ef2bf')\"\n",
              "              title=\"Convert this dataframe to an interactive table.\"\n",
              "              style=\"display:none;\">\n",
              "        \n",
              "  <svg xmlns=\"http://www.w3.org/2000/svg\" height=\"24px\"viewBox=\"0 0 24 24\"\n",
              "       width=\"24px\">\n",
              "    <path d=\"M0 0h24v24H0V0z\" fill=\"none\"/>\n",
              "    <path d=\"M18.56 5.44l.94 2.06.94-2.06 2.06-.94-2.06-.94-.94-2.06-.94 2.06-2.06.94zm-11 1L8.5 8.5l.94-2.06 2.06-.94-2.06-.94L8.5 2.5l-.94 2.06-2.06.94zm10 10l.94 2.06.94-2.06 2.06-.94-2.06-.94-.94-2.06-.94 2.06-2.06.94z\"/><path d=\"M17.41 7.96l-1.37-1.37c-.4-.4-.92-.59-1.43-.59-.52 0-1.04.2-1.43.59L10.3 9.45l-7.72 7.72c-.78.78-.78 2.05 0 2.83L4 21.41c.39.39.9.59 1.41.59.51 0 1.02-.2 1.41-.59l7.78-7.78 2.81-2.81c.8-.78.8-2.07 0-2.86zM5.41 20L4 18.59l7.72-7.72 1.47 1.35L5.41 20z\"/>\n",
              "  </svg>\n",
              "      </button>\n",
              "      \n",
              "  <style>\n",
              "    .colab-df-container {\n",
              "      display:flex;\n",
              "      flex-wrap:wrap;\n",
              "      gap: 12px;\n",
              "    }\n",
              "\n",
              "    .colab-df-convert {\n",
              "      background-color: #E8F0FE;\n",
              "      border: none;\n",
              "      border-radius: 50%;\n",
              "      cursor: pointer;\n",
              "      display: none;\n",
              "      fill: #1967D2;\n",
              "      height: 32px;\n",
              "      padding: 0 0 0 0;\n",
              "      width: 32px;\n",
              "    }\n",
              "\n",
              "    .colab-df-convert:hover {\n",
              "      background-color: #E2EBFA;\n",
              "      box-shadow: 0px 1px 2px rgba(60, 64, 67, 0.3), 0px 1px 3px 1px rgba(60, 64, 67, 0.15);\n",
              "      fill: #174EA6;\n",
              "    }\n",
              "\n",
              "    [theme=dark] .colab-df-convert {\n",
              "      background-color: #3B4455;\n",
              "      fill: #D2E3FC;\n",
              "    }\n",
              "\n",
              "    [theme=dark] .colab-df-convert:hover {\n",
              "      background-color: #434B5C;\n",
              "      box-shadow: 0px 1px 3px 1px rgba(0, 0, 0, 0.15);\n",
              "      filter: drop-shadow(0px 1px 2px rgba(0, 0, 0, 0.3));\n",
              "      fill: #FFFFFF;\n",
              "    }\n",
              "  </style>\n",
              "\n",
              "      <script>\n",
              "        const buttonEl =\n",
              "          document.querySelector('#df-d210d9d1-27a4-497e-9bc6-5601fd6ef2bf button.colab-df-convert');\n",
              "        buttonEl.style.display =\n",
              "          google.colab.kernel.accessAllowed ? 'block' : 'none';\n",
              "\n",
              "        async function convertToInteractive(key) {\n",
              "          const element = document.querySelector('#df-d210d9d1-27a4-497e-9bc6-5601fd6ef2bf');\n",
              "          const dataTable =\n",
              "            await google.colab.kernel.invokeFunction('convertToInteractive',\n",
              "                                                     [key], {});\n",
              "          if (!dataTable) return;\n",
              "\n",
              "          const docLinkHtml = 'Like what you see? Visit the ' +\n",
              "            '<a target=\"_blank\" href=https://colab.research.google.com/notebooks/data_table.ipynb>data table notebook</a>'\n",
              "            + ' to learn more about interactive tables.';\n",
              "          element.innerHTML = '';\n",
              "          dataTable['output_type'] = 'display_data';\n",
              "          await google.colab.output.renderOutput(dataTable, element);\n",
              "          const docLink = document.createElement('div');\n",
              "          docLink.innerHTML = docLinkHtml;\n",
              "          element.appendChild(docLink);\n",
              "        }\n",
              "      </script>\n",
              "    </div>\n",
              "  </div>\n",
              "  "
            ]
          },
          "metadata": {},
          "execution_count": 38
        }
      ]
    },
    {
      "cell_type": "code",
      "source": [
        "for i in range(df.best_params.count()):\n",
        "  print(df.best_params[i])"
      ],
      "metadata": {
        "colab": {
          "base_uri": "https://localhost:8080/"
        },
        "id": "KhlC3FIvzmkZ",
        "outputId": "0423f1d1-83d1-41d8-bc91-50b193e8b6ec"
      },
      "execution_count": null,
      "outputs": [
        {
          "output_type": "stream",
          "name": "stdout",
          "text": [
            "{'C': 1, 'dual': False, 'multi_class': 'ovr', 'penalty': 'l1', 'solver': 'saga'}\n",
            "{'algorithm': 'auto', 'leaf_size': 10, 'metric': 'minkowski', 'n_neighbors': 10, 'p': 1, 'weights': 'distance'}\n",
            "{'C': 20, 'gamma': 'scale', 'kernel': 'linear', 'probability': True}\n",
            "{'criterion': 'entropy', 'max_features': 'auto', 'min_samples_leaf': 1, 'min_samples_split': 2, 'splitter': 'best'}\n",
            "{'criterion': 'gini', 'max_features': 'sqrt', 'min_samples_leaf': 1, 'min_samples_split': 2, 'n_estimators': 60}\n"
          ]
        }
      ]
    },
    {
      "cell_type": "code",
      "source": [
        "# Los mejores hiperparámetros de cada algoritmo puesto a prueba.\n",
        "# LogisticRegression : {'C': 1, 'dual': False, 'multi_class': 'ovr', 'penalty': 'l1', 'solver': 'saga'} -> Score: 0.955556\n",
        "# KNeighborsClassifier : {'algorithm': 'auto', 'leaf_size': 10, 'metric': 'minkowski', 'n_neighbors': 10, 'p': 1, 'weights': 'distance'} -> Score: 0.805698\n",
        "# SVC : {'C': 20, 'gamma': 'scale', 'kernel': 'linear', 'probability': True} -> Score: 0.911111\n",
        "# DecisionTreeClassifier : {'criterion': 'entropy', 'max_features': 'auto', 'min_samples_leaf': 1, 'min_samples_split': 2, 'splitter': 'best'} -> 0.992593\n",
        "# RandomForestClassifier : {'criterion': 'gini', 'max_features': 'sqrt', 'min_samples_leaf': 1, 'min_samples_split': 2, 'n_estimators': 60} -> 0.992593"
      ],
      "metadata": {
        "id": "F3swD6a4g-yf"
      },
      "execution_count": null,
      "outputs": []
    },
    {
      "cell_type": "code",
      "source": [
        "# Los algoritmos que mejores resultados han dado se puede ver que han sido los arboles de clasificación, los dos usados. (DecisionTreeClassifier, RandomForestClassifier)\n",
        "# Sin embargo, sospecho que estos están posiblemente sobre-entrenados y no generalizan bien.\n",
        "# Por lo que de tener que escoger, me quedaría con la Regresión Logística y las Máquinas de Soporte Vectorial.\n",
        "# Que han dado resultados muy buenos pero sin llegar a ser sospechosos de sobre-entrenamiento. Y por lo tanto, generalicen mejor."
      ],
      "metadata": {
        "id": "KCnVdYwUhk6P"
      },
      "execution_count": null,
      "outputs": []
    }
  ]
}